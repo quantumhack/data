{
  "nbformat": 4,
  "nbformat_minor": 0,
  "metadata": {
    "colab": {
      "name": "hyperparameter_bayes.ipynb",
      "provenance": [],
      "collapsed_sections": []
    },
    "kernelspec": {
      "name": "python3",
      "display_name": "Python 3"
    }
  },
  "cells": [
    {
      "cell_type": "code",
      "metadata": {
        "id": "G2Exgw7ThLzY",
        "colab_type": "code",
        "colab": {
          "base_uri": "https://localhost:8080/",
          "height": 133
        },
        "outputId": "2015298a-0407-48e6-e17c-8d70ccb9877c"
      },
      "source": [
        "!pip install scikit-optimize"
      ],
      "execution_count": 1,
      "outputs": [
        {
          "output_type": "stream",
          "text": [
            "Requirement already satisfied: scikit-optimize in /usr/local/lib/python3.6/dist-packages (0.7.4)\n",
            "Requirement already satisfied: scipy>=0.18.0 in /usr/local/lib/python3.6/dist-packages (from scikit-optimize) (1.4.1)\n",
            "Requirement already satisfied: scikit-learn>=0.19.1 in /usr/local/lib/python3.6/dist-packages (from scikit-optimize) (0.22.2.post1)\n",
            "Requirement already satisfied: joblib>=0.11 in /usr/local/lib/python3.6/dist-packages (from scikit-optimize) (0.14.1)\n",
            "Requirement already satisfied: pyaml>=16.9 in /usr/local/lib/python3.6/dist-packages (from scikit-optimize) (20.4.0)\n",
            "Requirement already satisfied: numpy>=1.11.0 in /usr/local/lib/python3.6/dist-packages (from scikit-optimize) (1.18.4)\n",
            "Requirement already satisfied: PyYAML in /usr/local/lib/python3.6/dist-packages (from pyaml>=16.9->scikit-optimize) (3.13)\n"
          ],
          "name": "stdout"
        }
      ]
    },
    {
      "cell_type": "code",
      "metadata": {
        "id": "IczPJ8VkrolT",
        "colab_type": "code",
        "colab": {
          "base_uri": "https://localhost:8080/",
          "height": 33
        },
        "outputId": "8d6b0572-4e59-4ba9-e09c-b508e0c7c100"
      },
      "source": [
        "import keras\n",
        "import tensorflow\n",
        "import skopt\n",
        "import pandas as pd\n",
        "\n",
        "from keras.datasets import mnist\n",
        "from keras.utils import np_utils\n",
        "from keras.models import Sequential\n",
        "from keras.layers import Dense\n",
        "from keras.optimizers import Adam, SGD\n",
        "from tensorflow.python.keras import backend as K\n",
        "from tensorflow.python.framework import ops\n",
        "from skopt import gp_minimize\n",
        "from skopt.utils import use_named_args\n",
        "from skopt.space import Real, Categorical, Integer"
      ],
      "execution_count": 2,
      "outputs": [
        {
          "output_type": "stream",
          "text": [
            "Using TensorFlow backend.\n"
          ],
          "name": "stderr"
        }
      ]
    },
    {
      "cell_type": "code",
      "metadata": {
        "id": "zQ8DH5K5gJHS",
        "colab_type": "code",
        "colab": {}
      },
      "source": [
        "(X_train, y_train), (X_test, y_test) = mnist.load_data()\n",
        "\n",
        "X_train = X_train/ 255\n",
        "X_test = X_test/ 255\n",
        "X_train = X_train.reshape(60000,784)\n",
        "X_test = X_test.reshape(10000,784)\n",
        "input_shape= X_train[0].shape\n",
        "\n",
        "y_train = np_utils.to_categorical(y_train, 10)\n",
        "y_test = np_utils.to_categorical(y_test, 10)"
      ],
      "execution_count": 0,
      "outputs": []
    },
    {
      "cell_type": "code",
      "metadata": {
        "id": "8ojwKscLhDkZ",
        "colab_type": "code",
        "colab": {}
      },
      "source": [
        "dim_learning_rate = Real(low=1e-3, high=1e-1, prior='log-uniform', name='learning_rate')\n",
        "dim_num_dense_layers = Integer(low=0, high=2, name='num_dense_layers')\n",
        "dim_num_dense_nodes = Integer(low=5, high=15, name='num_dense_nodes')\n",
        "dim_optimizer = Categorical(categories=['Adam', 'SGD'], name='optimizer')\n",
        "\n",
        "dimensions = [dim_learning_rate,\n",
        "              dim_num_dense_layers,\n",
        "              dim_num_dense_nodes,\n",
        "              dim_optimizer]\n",
        "default_parameters = [1e-3, 2, 13, 'SGD']"
      ],
      "execution_count": 0,
      "outputs": []
    },
    {
      "cell_type": "code",
      "metadata": {
        "id": "uH5QpdSghIqh",
        "colab_type": "code",
        "colab": {}
      },
      "source": [
        "def create_model(learning_rate, num_dense_layers, num_dense_nodes, optimizer):\n",
        "    model = Sequential()\n",
        "    model.add(Dense(num_dense_nodes, input_shape= input_shape, activation='relu'))\n",
        "    for i in range(num_dense_layers):\n",
        "        name = 'layer_dense_{0}'.format(i+1)\n",
        "        model.add(Dense(num_dense_nodes, activation='relu', name=name))\n",
        "    model.add(Dense(10,activation='softmax'))\n",
        "    if optimizer == 'Adam':\n",
        "      optimizer_final = Adam(lr=learning_rate)\n",
        "    if optimizer == 'SGD':\n",
        "      optimizer_final = SGD(lr=learning_rate)\n",
        "    model.compile(optimizer=optimizer_final, loss='categorical_crossentropy', metrics=['accuracy'])\n",
        "    return model"
      ],
      "execution_count": 0,
      "outputs": []
    },
    {
      "cell_type": "code",
      "metadata": {
        "id": "tCCZD0lzhfi6",
        "colab_type": "code",
        "colab": {}
      },
      "source": [
        "@use_named_args(dimensions=dimensions)\n",
        "def fitness(learning_rate, num_dense_layers, num_dense_nodes, optimizer):\n",
        "\n",
        "    model = create_model(learning_rate=learning_rate,\n",
        "                         num_dense_layers=num_dense_layers,\n",
        "                         num_dense_nodes=num_dense_nodes,\n",
        "                         optimizer=optimizer)    \n",
        "\n",
        "    blackbox = model.fit(x=X_train, y=y_train, epochs=10, batch_size=32, validation_split=0.15,)\n",
        "    accuracy = blackbox.history['val_accuracy'][-1]\n",
        "    print(\"Accuracy: {0:.2%}\".format(accuracy))\n",
        "\n",
        "    del model\n",
        "    K.clear_session()\n",
        "    ops.reset_default_graph()    \n",
        "\n",
        "    return -accuracy"
      ],
      "execution_count": 0,
      "outputs": []
    },
    {
      "cell_type": "code",
      "metadata": {
        "id": "RQmaPCO4y39D",
        "colab_type": "code",
        "colab": {}
      },
      "source": [
        "K.clear_session()\n",
        "ops.reset_default_graph()"
      ],
      "execution_count": 0,
      "outputs": []
    },
    {
      "cell_type": "code",
      "metadata": {
        "id": "saDa9qjY0Inx",
        "colab_type": "code",
        "colab": {
          "base_uri": "https://localhost:8080/",
          "height": 1000
        },
        "outputId": "1635cac2-5c72-4e57-de26-1163e984478f"
      },
      "source": [
        "gp_result = gp_minimize(func=fitness,\n",
        "                            dimensions=dimensions,\n",
        "                            n_calls=12,\n",
        "                            n_jobs=-1,\n",
        "                            kappa = 5,\n",
        "                            x0=default_parameters)"
      ],
      "execution_count": 8,
      "outputs": [
        {
          "output_type": "stream",
          "text": [
            "Train on 51000 samples, validate on 9000 samples\n",
            "Epoch 1/10\n",
            "51000/51000 [==============================] - 3s 52us/step - loss: 2.2200 - accuracy: 0.1819 - val_loss: 2.1139 - val_accuracy: 0.2710\n",
            "Epoch 2/10\n",
            "51000/51000 [==============================] - 2s 49us/step - loss: 1.9757 - accuracy: 0.3238 - val_loss: 1.8179 - val_accuracy: 0.3941\n",
            "Epoch 3/10\n",
            "51000/51000 [==============================] - 2s 48us/step - loss: 1.6850 - accuracy: 0.4710 - val_loss: 1.4976 - val_accuracy: 0.5654\n",
            "Epoch 4/10\n",
            "51000/51000 [==============================] - 3s 50us/step - loss: 1.3813 - accuracy: 0.5683 - val_loss: 1.1933 - val_accuracy: 0.5973\n",
            "Epoch 5/10\n",
            "51000/51000 [==============================] - 2s 49us/step - loss: 1.1374 - accuracy: 0.6053 - val_loss: 0.9948 - val_accuracy: 0.6546\n",
            "Epoch 6/10\n",
            "51000/51000 [==============================] - 2s 49us/step - loss: 0.9824 - accuracy: 0.6732 - val_loss: 0.8692 - val_accuracy: 0.7347\n",
            "Epoch 7/10\n",
            "51000/51000 [==============================] - 3s 49us/step - loss: 0.8727 - accuracy: 0.7350 - val_loss: 0.7695 - val_accuracy: 0.7769\n",
            "Epoch 8/10\n",
            "51000/51000 [==============================] - 2s 47us/step - loss: 0.7766 - accuracy: 0.7696 - val_loss: 0.6775 - val_accuracy: 0.8061\n",
            "Epoch 9/10\n",
            "51000/51000 [==============================] - 2s 48us/step - loss: 0.6877 - accuracy: 0.7979 - val_loss: 0.5951 - val_accuracy: 0.8300\n",
            "Epoch 10/10\n",
            "51000/51000 [==============================] - 3s 49us/step - loss: 0.6124 - accuracy: 0.8209 - val_loss: 0.5308 - val_accuracy: 0.8502\n",
            "Accuracy: 85.02%\n",
            "Train on 51000 samples, validate on 9000 samples\n",
            "Epoch 1/10\n",
            "51000/51000 [==============================] - 2s 49us/step - loss: 1.9142 - accuracy: 0.3828 - val_loss: 1.4221 - val_accuracy: 0.6217\n",
            "Epoch 2/10\n",
            "51000/51000 [==============================] - 2s 47us/step - loss: 1.0623 - accuracy: 0.7220 - val_loss: 0.7250 - val_accuracy: 0.8129\n",
            "Epoch 3/10\n",
            "51000/51000 [==============================] - 2s 47us/step - loss: 0.6619 - accuracy: 0.8154 - val_loss: 0.5172 - val_accuracy: 0.8544\n",
            "Epoch 4/10\n",
            "51000/51000 [==============================] - 2s 48us/step - loss: 0.5247 - accuracy: 0.8512 - val_loss: 0.4279 - val_accuracy: 0.8797\n",
            "Epoch 5/10\n",
            "51000/51000 [==============================] - 2s 47us/step - loss: 0.4562 - accuracy: 0.8691 - val_loss: 0.3801 - val_accuracy: 0.8926\n",
            "Epoch 6/10\n",
            "51000/51000 [==============================] - 2s 47us/step - loss: 0.4140 - accuracy: 0.8812 - val_loss: 0.3506 - val_accuracy: 0.8997\n",
            "Epoch 7/10\n",
            "51000/51000 [==============================] - 2s 48us/step - loss: 0.3852 - accuracy: 0.8903 - val_loss: 0.3292 - val_accuracy: 0.9053\n",
            "Epoch 8/10\n",
            "51000/51000 [==============================] - 2s 47us/step - loss: 0.3638 - accuracy: 0.8971 - val_loss: 0.3109 - val_accuracy: 0.9093\n",
            "Epoch 9/10\n",
            "51000/51000 [==============================] - 2s 48us/step - loss: 0.3467 - accuracy: 0.9022 - val_loss: 0.2986 - val_accuracy: 0.9126\n",
            "Epoch 10/10\n",
            "51000/51000 [==============================] - 2s 48us/step - loss: 0.3328 - accuracy: 0.9063 - val_loss: 0.2867 - val_accuracy: 0.9176\n",
            "Accuracy: 91.76%\n",
            "Train on 51000 samples, validate on 9000 samples\n",
            "Epoch 1/10\n",
            "51000/51000 [==============================] - 3s 52us/step - loss: 0.6255 - accuracy: 0.8158 - val_loss: 0.3064 - val_accuracy: 0.9091\n",
            "Epoch 2/10\n",
            "51000/51000 [==============================] - 3s 54us/step - loss: 0.3223 - accuracy: 0.9074 - val_loss: 0.2663 - val_accuracy: 0.9237\n",
            "Epoch 3/10\n",
            "51000/51000 [==============================] - 3s 55us/step - loss: 0.2919 - accuracy: 0.9167 - val_loss: 0.2534 - val_accuracy: 0.9254\n",
            "Epoch 4/10\n",
            "51000/51000 [==============================] - 3s 55us/step - loss: 0.2732 - accuracy: 0.9220 - val_loss: 0.2412 - val_accuracy: 0.9278\n",
            "Epoch 5/10\n",
            "51000/51000 [==============================] - 3s 52us/step - loss: 0.2589 - accuracy: 0.9248 - val_loss: 0.2241 - val_accuracy: 0.9346\n",
            "Epoch 6/10\n",
            "51000/51000 [==============================] - 3s 51us/step - loss: 0.2454 - accuracy: 0.9285 - val_loss: 0.2293 - val_accuracy: 0.9349\n",
            "Epoch 7/10\n",
            "51000/51000 [==============================] - 3s 50us/step - loss: 0.2358 - accuracy: 0.9319 - val_loss: 0.2176 - val_accuracy: 0.9370\n",
            "Epoch 8/10\n",
            "51000/51000 [==============================] - 3s 50us/step - loss: 0.2269 - accuracy: 0.9330 - val_loss: 0.2125 - val_accuracy: 0.9396\n",
            "Epoch 9/10\n",
            "51000/51000 [==============================] - 3s 51us/step - loss: 0.2193 - accuracy: 0.9349 - val_loss: 0.2144 - val_accuracy: 0.9379\n",
            "Epoch 10/10\n",
            "51000/51000 [==============================] - 3s 52us/step - loss: 0.2128 - accuracy: 0.9363 - val_loss: 0.2154 - val_accuracy: 0.9382\n",
            "Accuracy: 93.82%\n",
            "Train on 51000 samples, validate on 9000 samples\n",
            "Epoch 1/10\n",
            "51000/51000 [==============================] - 3s 55us/step - loss: 0.8259 - accuracy: 0.7178 - val_loss: 0.4999 - val_accuracy: 0.8439\n",
            "Epoch 2/10\n",
            "51000/51000 [==============================] - 3s 53us/step - loss: 0.4940 - accuracy: 0.8525 - val_loss: 0.4421 - val_accuracy: 0.8663\n",
            "Epoch 3/10\n",
            "51000/51000 [==============================] - 3s 54us/step - loss: 0.4601 - accuracy: 0.8648 - val_loss: 0.4154 - val_accuracy: 0.8752\n",
            "Epoch 4/10\n",
            "51000/51000 [==============================] - 3s 53us/step - loss: 0.4419 - accuracy: 0.8700 - val_loss: 0.3857 - val_accuracy: 0.8872\n",
            "Epoch 5/10\n",
            "51000/51000 [==============================] - 3s 56us/step - loss: 0.4267 - accuracy: 0.8752 - val_loss: 0.3843 - val_accuracy: 0.8818\n",
            "Epoch 6/10\n",
            "51000/51000 [==============================] - 3s 58us/step - loss: 0.4147 - accuracy: 0.8778 - val_loss: 0.3813 - val_accuracy: 0.8859\n",
            "Epoch 7/10\n",
            "51000/51000 [==============================] - 3s 53us/step - loss: 0.4039 - accuracy: 0.8815 - val_loss: 0.3710 - val_accuracy: 0.8872\n",
            "Epoch 8/10\n",
            "51000/51000 [==============================] - 3s 56us/step - loss: 0.3972 - accuracy: 0.8845 - val_loss: 0.3491 - val_accuracy: 0.8962\n",
            "Epoch 9/10\n",
            "51000/51000 [==============================] - 3s 57us/step - loss: 0.3872 - accuracy: 0.8875 - val_loss: 0.3733 - val_accuracy: 0.8892\n",
            "Epoch 10/10\n",
            "51000/51000 [==============================] - 3s 54us/step - loss: 0.3810 - accuracy: 0.8883 - val_loss: 0.3532 - val_accuracy: 0.8942\n",
            "Accuracy: 89.42%\n",
            "Train on 51000 samples, validate on 9000 samples\n",
            "Epoch 1/10\n",
            "51000/51000 [==============================] - 3s 54us/step - loss: 0.7932 - accuracy: 0.7047 - val_loss: 0.5544 - val_accuracy: 0.7861\n",
            "Epoch 2/10\n",
            "51000/51000 [==============================] - 3s 55us/step - loss: 0.6342 - accuracy: 0.7751 - val_loss: 0.5743 - val_accuracy: 0.8140\n",
            "Epoch 3/10\n",
            "51000/51000 [==============================] - 3s 54us/step - loss: 0.5920 - accuracy: 0.8180 - val_loss: 0.5102 - val_accuracy: 0.8461\n",
            "Epoch 4/10\n",
            "51000/51000 [==============================] - 3s 54us/step - loss: 0.5702 - accuracy: 0.8333 - val_loss: 0.5049 - val_accuracy: 0.8640\n",
            "Epoch 5/10\n",
            "51000/51000 [==============================] - 3s 50us/step - loss: 0.5514 - accuracy: 0.8428 - val_loss: 0.4706 - val_accuracy: 0.8739\n",
            "Epoch 6/10\n",
            "51000/51000 [==============================] - 3s 50us/step - loss: 0.5311 - accuracy: 0.8512 - val_loss: 0.4984 - val_accuracy: 0.8726\n",
            "Epoch 7/10\n",
            "51000/51000 [==============================] - 3s 50us/step - loss: 0.5327 - accuracy: 0.8509 - val_loss: 0.4768 - val_accuracy: 0.8751\n",
            "Epoch 8/10\n",
            "51000/51000 [==============================] - 3s 50us/step - loss: 0.5227 - accuracy: 0.8558 - val_loss: 0.4893 - val_accuracy: 0.8718\n",
            "Epoch 9/10\n",
            "51000/51000 [==============================] - 3s 50us/step - loss: 0.5157 - accuracy: 0.8593 - val_loss: 0.5038 - val_accuracy: 0.8670\n",
            "Epoch 10/10\n",
            "51000/51000 [==============================] - 3s 50us/step - loss: 0.5175 - accuracy: 0.8596 - val_loss: 0.4878 - val_accuracy: 0.8732\n",
            "Accuracy: 87.32%\n",
            "Train on 51000 samples, validate on 9000 samples\n",
            "Epoch 1/10\n",
            "51000/51000 [==============================] - 2s 48us/step - loss: 2.1678 - accuracy: 0.1427 - val_loss: 1.9238 - val_accuracy: 0.2826\n",
            "Epoch 2/10\n",
            "51000/51000 [==============================] - 3s 51us/step - loss: 1.5814 - accuracy: 0.4900 - val_loss: 1.2104 - val_accuracy: 0.6701\n",
            "Epoch 3/10\n",
            "51000/51000 [==============================] - 2s 47us/step - loss: 1.0300 - accuracy: 0.7122 - val_loss: 0.8144 - val_accuracy: 0.7898\n",
            "Epoch 4/10\n",
            "51000/51000 [==============================] - 2s 47us/step - loss: 0.7550 - accuracy: 0.7909 - val_loss: 0.6162 - val_accuracy: 0.8354\n",
            "Epoch 5/10\n",
            "51000/51000 [==============================] - 2s 46us/step - loss: 0.6226 - accuracy: 0.8231 - val_loss: 0.5294 - val_accuracy: 0.8530\n",
            "Epoch 6/10\n",
            "51000/51000 [==============================] - 2s 48us/step - loss: 0.5593 - accuracy: 0.8403 - val_loss: 0.4846 - val_accuracy: 0.8626\n",
            "Epoch 7/10\n",
            "51000/51000 [==============================] - 2s 48us/step - loss: 0.5213 - accuracy: 0.8501 - val_loss: 0.4608 - val_accuracy: 0.8627\n",
            "Epoch 8/10\n",
            "51000/51000 [==============================] - 2s 47us/step - loss: 0.4943 - accuracy: 0.8578 - val_loss: 0.4372 - val_accuracy: 0.8704\n",
            "Epoch 9/10\n",
            "51000/51000 [==============================] - 2s 48us/step - loss: 0.4738 - accuracy: 0.8643 - val_loss: 0.4188 - val_accuracy: 0.8777\n",
            "Epoch 10/10\n",
            "51000/51000 [==============================] - 2s 46us/step - loss: 0.4577 - accuracy: 0.8680 - val_loss: 0.4066 - val_accuracy: 0.8810\n",
            "Accuracy: 88.10%\n",
            "Train on 51000 samples, validate on 9000 samples\n",
            "Epoch 1/10\n",
            "51000/51000 [==============================] - 2s 49us/step - loss: 1.7953 - accuracy: 0.2782 - val_loss: 1.7662 - val_accuracy: 0.2621\n",
            "Epoch 2/10\n",
            "51000/51000 [==============================] - 2s 48us/step - loss: 1.7452 - accuracy: 0.2997 - val_loss: 1.7437 - val_accuracy: 0.2931\n",
            "Epoch 3/10\n",
            "51000/51000 [==============================] - 2s 48us/step - loss: 1.7383 - accuracy: 0.3075 - val_loss: 1.7365 - val_accuracy: 0.2881\n",
            "Epoch 4/10\n",
            "51000/51000 [==============================] - 2s 48us/step - loss: 1.7365 - accuracy: 0.3065 - val_loss: 1.7456 - val_accuracy: 0.2848\n",
            "Epoch 5/10\n",
            "51000/51000 [==============================] - 2s 47us/step - loss: 1.7369 - accuracy: 0.3043 - val_loss: 1.6882 - val_accuracy: 0.3098\n",
            "Epoch 6/10\n",
            "51000/51000 [==============================] - 2s 48us/step - loss: 1.7343 - accuracy: 0.3076 - val_loss: 1.7674 - val_accuracy: 0.2738\n",
            "Epoch 7/10\n",
            "51000/51000 [==============================] - 3s 51us/step - loss: 1.7377 - accuracy: 0.3056 - val_loss: 1.7112 - val_accuracy: 0.3001\n",
            "Epoch 8/10\n",
            "51000/51000 [==============================] - 2s 48us/step - loss: 1.7395 - accuracy: 0.3044 - val_loss: 1.7265 - val_accuracy: 0.3203\n",
            "Epoch 9/10\n",
            "51000/51000 [==============================] - 2s 48us/step - loss: 1.7351 - accuracy: 0.3079 - val_loss: 1.7020 - val_accuracy: 0.3163\n",
            "Epoch 10/10\n",
            "51000/51000 [==============================] - 2s 47us/step - loss: 1.7347 - accuracy: 0.3045 - val_loss: 1.7238 - val_accuracy: 0.2968\n",
            "Accuracy: 29.68%\n",
            "Train on 51000 samples, validate on 9000 samples\n",
            "Epoch 1/10\n",
            "51000/51000 [==============================] - 2s 48us/step - loss: 0.4485 - accuracy: 0.8699 - val_loss: 0.2839 - val_accuracy: 0.9164\n",
            "Epoch 2/10\n",
            "51000/51000 [==============================] - 2s 46us/step - loss: 0.2996 - accuracy: 0.9145 - val_loss: 0.2498 - val_accuracy: 0.9277\n",
            "Epoch 3/10\n",
            "51000/51000 [==============================] - 2s 46us/step - loss: 0.2720 - accuracy: 0.9215 - val_loss: 0.2360 - val_accuracy: 0.9320\n",
            "Epoch 4/10\n",
            "51000/51000 [==============================] - 2s 47us/step - loss: 0.2547 - accuracy: 0.9272 - val_loss: 0.2197 - val_accuracy: 0.9387\n",
            "Epoch 5/10\n",
            "51000/51000 [==============================] - 2s 47us/step - loss: 0.2428 - accuracy: 0.9301 - val_loss: 0.2408 - val_accuracy: 0.9304\n",
            "Epoch 6/10\n",
            "51000/51000 [==============================] - 2s 46us/step - loss: 0.2342 - accuracy: 0.9328 - val_loss: 0.2415 - val_accuracy: 0.9300\n",
            "Epoch 7/10\n",
            "51000/51000 [==============================] - 2s 47us/step - loss: 0.2267 - accuracy: 0.9340 - val_loss: 0.2211 - val_accuracy: 0.9386\n",
            "Epoch 8/10\n",
            "51000/51000 [==============================] - 2s 47us/step - loss: 0.2223 - accuracy: 0.9353 - val_loss: 0.2040 - val_accuracy: 0.9433\n",
            "Epoch 9/10\n",
            "51000/51000 [==============================] - 2s 47us/step - loss: 0.2169 - accuracy: 0.9368 - val_loss: 0.2050 - val_accuracy: 0.9428\n",
            "Epoch 10/10\n",
            "51000/51000 [==============================] - 2s 46us/step - loss: 0.2127 - accuracy: 0.9379 - val_loss: 0.2079 - val_accuracy: 0.9409\n",
            "Accuracy: 94.09%\n",
            "Train on 51000 samples, validate on 9000 samples\n",
            "Epoch 1/10\n",
            "51000/51000 [==============================] - 2s 48us/step - loss: 0.4189 - accuracy: 0.8787 - val_loss: 0.2936 - val_accuracy: 0.9131\n",
            "Epoch 2/10\n",
            "51000/51000 [==============================] - 2s 47us/step - loss: 0.2705 - accuracy: 0.9221 - val_loss: 0.2421 - val_accuracy: 0.9304\n",
            "Epoch 3/10\n",
            "51000/51000 [==============================] - 2s 48us/step - loss: 0.2423 - accuracy: 0.9313 - val_loss: 0.2191 - val_accuracy: 0.9389\n",
            "Epoch 4/10\n",
            "51000/51000 [==============================] - 2s 46us/step - loss: 0.2251 - accuracy: 0.9357 - val_loss: 0.2063 - val_accuracy: 0.9414\n",
            "Epoch 5/10\n",
            "51000/51000 [==============================] - 2s 46us/step - loss: 0.2129 - accuracy: 0.9379 - val_loss: 0.2083 - val_accuracy: 0.9362\n",
            "Epoch 6/10\n",
            "51000/51000 [==============================] - 2s 46us/step - loss: 0.2037 - accuracy: 0.9416 - val_loss: 0.1983 - val_accuracy: 0.9417\n",
            "Epoch 7/10\n",
            "51000/51000 [==============================] - 2s 49us/step - loss: 0.1979 - accuracy: 0.9414 - val_loss: 0.2002 - val_accuracy: 0.9414\n",
            "Epoch 8/10\n",
            "51000/51000 [==============================] - 2s 48us/step - loss: 0.1917 - accuracy: 0.9437 - val_loss: 0.1934 - val_accuracy: 0.9448\n",
            "Epoch 9/10\n",
            "51000/51000 [==============================] - 2s 46us/step - loss: 0.1877 - accuracy: 0.9445 - val_loss: 0.2358 - val_accuracy: 0.9302\n",
            "Epoch 10/10\n",
            "51000/51000 [==============================] - 2s 48us/step - loss: 0.1830 - accuracy: 0.9464 - val_loss: 0.1906 - val_accuracy: 0.9463\n",
            "Accuracy: 94.63%\n",
            "Train on 51000 samples, validate on 9000 samples\n",
            "Epoch 1/10\n",
            "51000/51000 [==============================] - 2s 48us/step - loss: 0.4603 - accuracy: 0.8591 - val_loss: 0.2899 - val_accuracy: 0.9170\n",
            "Epoch 2/10\n",
            "51000/51000 [==============================] - 2s 48us/step - loss: 0.2734 - accuracy: 0.9184 - val_loss: 0.2279 - val_accuracy: 0.9320\n",
            "Epoch 3/10\n",
            "51000/51000 [==============================] - 2s 48us/step - loss: 0.2353 - accuracy: 0.9298 - val_loss: 0.2200 - val_accuracy: 0.9376\n",
            "Epoch 4/10\n",
            "51000/51000 [==============================] - 2s 48us/step - loss: 0.2057 - accuracy: 0.9386 - val_loss: 0.1744 - val_accuracy: 0.9514\n",
            "Epoch 5/10\n",
            "51000/51000 [==============================] - 2s 47us/step - loss: 0.1878 - accuracy: 0.9437 - val_loss: 0.1884 - val_accuracy: 0.9454\n",
            "Epoch 6/10\n",
            "51000/51000 [==============================] - 2s 47us/step - loss: 0.1764 - accuracy: 0.9465 - val_loss: 0.1924 - val_accuracy: 0.9430\n",
            "Epoch 7/10\n",
            "51000/51000 [==============================] - 2s 47us/step - loss: 0.1686 - accuracy: 0.9491 - val_loss: 0.2518 - val_accuracy: 0.9247\n",
            "Epoch 8/10\n",
            "51000/51000 [==============================] - 2s 47us/step - loss: 0.1614 - accuracy: 0.9512 - val_loss: 0.1569 - val_accuracy: 0.9541\n",
            "Epoch 9/10\n",
            "51000/51000 [==============================] - 2s 47us/step - loss: 0.1563 - accuracy: 0.9529 - val_loss: 0.1680 - val_accuracy: 0.9527\n",
            "Epoch 10/10\n",
            "51000/51000 [==============================] - 2s 47us/step - loss: 0.1521 - accuracy: 0.9547 - val_loss: 0.1566 - val_accuracy: 0.9542\n",
            "Accuracy: 95.42%\n",
            "Train on 51000 samples, validate on 9000 samples\n",
            "Epoch 1/10\n",
            "51000/51000 [==============================] - 2s 46us/step - loss: 0.6212 - accuracy: 0.8322 - val_loss: 0.3282 - val_accuracy: 0.9097\n",
            "Epoch 2/10\n",
            "51000/51000 [==============================] - 2s 45us/step - loss: 0.3386 - accuracy: 0.9047 - val_loss: 0.2774 - val_accuracy: 0.9208\n",
            "Epoch 3/10\n",
            "51000/51000 [==============================] - 2s 45us/step - loss: 0.3013 - accuracy: 0.9138 - val_loss: 0.2566 - val_accuracy: 0.9267\n",
            "Epoch 4/10\n",
            "51000/51000 [==============================] - 2s 47us/step - loss: 0.2810 - accuracy: 0.9202 - val_loss: 0.2484 - val_accuracy: 0.9286\n",
            "Epoch 5/10\n",
            "51000/51000 [==============================] - 2s 46us/step - loss: 0.2666 - accuracy: 0.9253 - val_loss: 0.2380 - val_accuracy: 0.9340\n",
            "Epoch 6/10\n",
            "51000/51000 [==============================] - 2s 46us/step - loss: 0.2569 - accuracy: 0.9281 - val_loss: 0.2302 - val_accuracy: 0.9367\n",
            "Epoch 7/10\n",
            "51000/51000 [==============================] - 2s 46us/step - loss: 0.2480 - accuracy: 0.9305 - val_loss: 0.2258 - val_accuracy: 0.9389\n",
            "Epoch 8/10\n",
            "51000/51000 [==============================] - 2s 46us/step - loss: 0.2409 - accuracy: 0.9323 - val_loss: 0.2188 - val_accuracy: 0.9397\n",
            "Epoch 9/10\n",
            "51000/51000 [==============================] - 2s 46us/step - loss: 0.2345 - accuracy: 0.9345 - val_loss: 0.2155 - val_accuracy: 0.9403\n",
            "Epoch 10/10\n",
            "51000/51000 [==============================] - 2s 45us/step - loss: 0.2282 - accuracy: 0.9363 - val_loss: 0.2104 - val_accuracy: 0.9438\n",
            "Accuracy: 94.38%\n",
            "Train on 51000 samples, validate on 9000 samples\n",
            "Epoch 1/10\n",
            "51000/51000 [==============================] - 3s 49us/step - loss: 0.4373 - accuracy: 0.8686 - val_loss: 0.2613 - val_accuracy: 0.9218\n",
            "Epoch 2/10\n",
            "51000/51000 [==============================] - 2s 49us/step - loss: 0.2610 - accuracy: 0.9228 - val_loss: 0.2134 - val_accuracy: 0.9392\n",
            "Epoch 3/10\n",
            "51000/51000 [==============================] - 2s 48us/step - loss: 0.2233 - accuracy: 0.9348 - val_loss: 0.2000 - val_accuracy: 0.9416\n",
            "Epoch 4/10\n",
            "51000/51000 [==============================] - 2s 49us/step - loss: 0.2023 - accuracy: 0.9403 - val_loss: 0.1991 - val_accuracy: 0.9406\n",
            "Epoch 5/10\n",
            "51000/51000 [==============================] - 2s 47us/step - loss: 0.1900 - accuracy: 0.9438 - val_loss: 0.1806 - val_accuracy: 0.9483\n",
            "Epoch 6/10\n",
            "51000/51000 [==============================] - 3s 50us/step - loss: 0.1794 - accuracy: 0.9461 - val_loss: 0.1735 - val_accuracy: 0.9491\n",
            "Epoch 7/10\n",
            "51000/51000 [==============================] - 3s 49us/step - loss: 0.1722 - accuracy: 0.9482 - val_loss: 0.1817 - val_accuracy: 0.9457\n",
            "Epoch 8/10\n",
            "51000/51000 [==============================] - 2s 47us/step - loss: 0.1622 - accuracy: 0.9522 - val_loss: 0.1598 - val_accuracy: 0.9523\n",
            "Epoch 9/10\n",
            "51000/51000 [==============================] - 2s 47us/step - loss: 0.1581 - accuracy: 0.9527 - val_loss: 0.1634 - val_accuracy: 0.9534\n",
            "Epoch 10/10\n",
            "51000/51000 [==============================] - 2s 49us/step - loss: 0.1530 - accuracy: 0.9546 - val_loss: 0.1533 - val_accuracy: 0.9542\n",
            "Accuracy: 95.42%\n"
          ],
          "name": "stdout"
        }
      ]
    },
    {
      "cell_type": "code",
      "metadata": {
        "id": "WmPCbmaO0MTm",
        "colab_type": "code",
        "colab": {
          "base_uri": "https://localhost:8080/",
          "height": 50
        },
        "outputId": "e9647cce-c44a-4266-a35e-b239da558350"
      },
      "source": [
        "print(\"best accuracy was \" + str(round(gp_result.fun *-100,2))+\"%.\")\n",
        "gp_result.x"
      ],
      "execution_count": 9,
      "outputs": [
        {
          "output_type": "stream",
          "text": [
            "best accuracy was 95.42%.\n"
          ],
          "name": "stdout"
        },
        {
          "output_type": "execute_result",
          "data": {
            "text/plain": [
              "[0.06883953783942746, 1, 14, 'SGD']"
            ]
          },
          "metadata": {
            "tags": []
          },
          "execution_count": 9
        }
      ]
    },
    {
      "cell_type": "code",
      "metadata": {
        "id": "JDpDnkro0RHD",
        "colab_type": "code",
        "colab": {
          "base_uri": "https://localhost:8080/",
          "height": 383
        },
        "outputId": "94f2de40-16a5-4f94-8629-b1408f47a07d"
      },
      "source": [
        "gp_model = create_model(gp_result.x[0],gp_result.x[1],gp_result.x[2],gp_result.x[3])\n",
        "gp_model.fit(X_train,y_train, batch_size=10, epochs=10)\n",
        "gp_model.evaluate(X_test,y_test)"
      ],
      "execution_count": 12,
      "outputs": [
        {
          "output_type": "stream",
          "text": [
            "Epoch 1/10\n",
            "60000/60000 [==============================] - 7s 123us/step - loss: 0.3828 - accuracy: 0.8824\n",
            "Epoch 2/10\n",
            "60000/60000 [==============================] - 7s 121us/step - loss: 0.2532 - accuracy: 0.9247\n",
            "Epoch 3/10\n",
            "60000/60000 [==============================] - 7s 122us/step - loss: 0.2235 - accuracy: 0.9333\n",
            "Epoch 4/10\n",
            "60000/60000 [==============================] - 7s 120us/step - loss: 0.2047 - accuracy: 0.9403\n",
            "Epoch 5/10\n",
            "60000/60000 [==============================] - 7s 121us/step - loss: 0.1926 - accuracy: 0.9436\n",
            "Epoch 6/10\n",
            "60000/60000 [==============================] - 7s 122us/step - loss: 0.1828 - accuracy: 0.9460\n",
            "Epoch 7/10\n",
            "60000/60000 [==============================] - 7s 122us/step - loss: 0.1744 - accuracy: 0.9490\n",
            "Epoch 8/10\n",
            "60000/60000 [==============================] - 7s 124us/step - loss: 0.1722 - accuracy: 0.9492\n",
            "Epoch 9/10\n",
            "60000/60000 [==============================] - 7s 121us/step - loss: 0.1667 - accuracy: 0.9512\n",
            "Epoch 10/10\n",
            "60000/60000 [==============================] - 7s 124us/step - loss: 0.1614 - accuracy: 0.9529\n",
            "10000/10000 [==============================] - 0s 26us/step\n"
          ],
          "name": "stdout"
        },
        {
          "output_type": "execute_result",
          "data": {
            "text/plain": [
              "[0.18893614380545914, 0.9449999928474426]"
            ]
          },
          "metadata": {
            "tags": []
          },
          "execution_count": 12
        }
      ]
    },
    {
      "cell_type": "code",
      "metadata": {
        "id": "42PkEC7x0Yb2",
        "colab_type": "code",
        "colab": {
          "base_uri": "https://localhost:8080/",
          "height": 250
        },
        "outputId": "375f6fc0-32ab-4dfb-8e62-491f9a2bdd12"
      },
      "source": [
        "gp_model.summary()"
      ],
      "execution_count": 13,
      "outputs": [
        {
          "output_type": "stream",
          "text": [
            "Model: \"sequential_2\"\n",
            "_________________________________________________________________\n",
            "Layer (type)                 Output Shape              Param #   \n",
            "=================================================================\n",
            "dense_3 (Dense)              (None, 14)                10990     \n",
            "_________________________________________________________________\n",
            "layer_dense_1 (Dense)        (None, 14)                210       \n",
            "_________________________________________________________________\n",
            "dense_4 (Dense)              (None, 10)                150       \n",
            "=================================================================\n",
            "Total params: 11,350\n",
            "Trainable params: 11,350\n",
            "Non-trainable params: 0\n",
            "_________________________________________________________________\n"
          ],
          "name": "stdout"
        }
      ]
    },
    {
      "cell_type": "code",
      "metadata": {
        "id": "PHteznMeCpM_",
        "colab_type": "code",
        "colab": {}
      },
      "source": [
        ""
      ],
      "execution_count": 0,
      "outputs": []
    }
  ]
}