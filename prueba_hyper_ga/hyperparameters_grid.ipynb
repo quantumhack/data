{
  "nbformat": 4,
  "nbformat_minor": 0,
  "metadata": {
    "colab": {
      "name": "hyperparameters_grid.ipynb",
      "provenance": [],
      "collapsed_sections": []
    },
    "kernelspec": {
      "name": "python3",
      "display_name": "Python 3"
    }
  },
  "cells": [
    {
      "cell_type": "markdown",
      "metadata": {
        "id": "view-in-github",
        "colab_type": "text"
      },
      "source": [
        "<a href=\"https://colab.research.google.com/github/agustinsilva447/CDL/blob/master/mnist_hyperparameters.ipynb\" target=\"_parent\"><img src=\"https://colab.research.google.com/assets/colab-badge.svg\" alt=\"Open In Colab\"/></a>"
      ]
    },
    {
      "cell_type": "code",
      "metadata": {
        "id": "OQM78DE1Eugu",
        "colab_type": "code",
        "colab": {}
      },
      "source": [
        "import tensorflow as tf\n",
        "from tensorflow.keras import layers, optimizers\n",
        "from tensorflow.keras.models import Sequential\n",
        "from tensorflow.keras.datasets import mnist\n",
        "import matplotlib.pyplot as plt"
      ],
      "execution_count": 0,
      "outputs": []
    },
    {
      "cell_type": "code",
      "metadata": {
        "id": "ZkDW8TaqvMzY",
        "colab_type": "code",
        "colab": {}
      },
      "source": [
        "#función para graficar el accuracy en función de la cantidad de epochs\n",
        "def plot_accuracy_and_loss(history):\n",
        "\tplt.plot(history.history['accuracy'], label='accuracy')\n",
        "\tplt.plot(history.history['val_accuracy'], label = 'val_accuracy')\n",
        "\tplt.xlabel('Epoch')\n",
        "\tplt.ylabel('Accuracy')\n",
        "\tplt.ylim([0.5, 1])\n",
        "\tplt.legend(loc='lower right')"
      ],
      "execution_count": 0,
      "outputs": []
    },
    {
      "cell_type": "code",
      "metadata": {
        "id": "tM0GeNFCvRUq",
        "colab_type": "code",
        "colab": {}
      },
      "source": [
        "#cargando el dataset MNIST desde keras\n",
        "(x_train, y_train), (x_test, y_test) = mnist.load_data()\n",
        "#normalizando los valores de los pixels para que estén entre 0 y 1\n",
        "x_train, x_test = x_train / 255.0, x_test / 255.0"
      ],
      "execution_count": 0,
      "outputs": []
    },
    {
      "cell_type": "code",
      "metadata": {
        "id": "AetL_F0AvTqp",
        "colab_type": "code",
        "colab": {}
      },
      "source": [
        "# Todas estas son la posibles variables que se pueden autoconfigurar\n",
        "# sin embargo, solo vamos a trabajar con 3 para que las simulaciones\n",
        "# no lleven tanto tiempo. Vamos a trabajar con una red neuronal \n",
        "# con 2 hidden layers y optimizada utilizando stochastic gradient descent. \n",
        "# Vamos a tunear 3 parámetros: el learning rate, la cantidad de neuronas \n",
        "# por hidden layer y la cantidad de epochs.\n",
        "hidden_units_ = [5, 10, 15]\n",
        "hidden_layers_ = [1, 2, 3]\n",
        "solver_ = ['sgd', 'adam']\n",
        "lr_ = [0.001, 0.01, 0.1]\n",
        "#evaluamos 54 casos\n",
        "epochs_ = 10\n",
        "batch_size_ = 32\n",
        "momentum_ = 0.9\t\n",
        "nesterov_ = True"
      ],
      "execution_count": 0,
      "outputs": []
    },
    {
      "cell_type": "code",
      "metadata": {
        "id": "n228wXQHvWkT",
        "colab_type": "code",
        "colab": {}
      },
      "source": [
        "#inicialización de algunas variables\n",
        "test_loss = [0] * (len(hidden_units_) * len(hidden_layers_) * len(solver_) * len(lr_))\n",
        "test_acc =  [0] * (len(hidden_units_) * len(hidden_layers_) * len(solver_) * len(lr_))\n",
        "caso = 0\n",
        "max_acc = 0"
      ],
      "execution_count": 0,
      "outputs": []
    },
    {
      "cell_type": "code",
      "metadata": {
        "id": "gfxBFP2kxbep",
        "colab_type": "code",
        "outputId": "10d2b8ab-9f22-4d2e-cd56-471949cb945a",
        "colab": {
          "base_uri": "https://localhost:8080/",
          "height": 916
        }
      },
      "source": [
        "# Barremos con los distintos valores de neuronas (3), epochs (2) \n",
        "# y learning rate (3). Para cada caso calculamos la accuracy y \n",
        "# nos quedamos con el caso con el valor más alto\n",
        "for i in range(len(hidden_units_)):\n",
        "  for j in range(len(hidden_layers_)):\n",
        "    for k in range(len(lr_)):\n",
        "      for l in range(len(solver_)):\n",
        "        \n",
        "        if hidden_layers_[j] == 1:        \n",
        "          model = Sequential([\n",
        "          layers.Flatten(input_shape=(28, 28)),        \n",
        "          layers.Dense(hidden_units_[i], activation='relu'),        \n",
        "          layers.Dense(10, activation='softmax')\n",
        "          ])\n",
        "        if hidden_layers_[j] == 2:        \n",
        "          model = Sequential([\n",
        "          layers.Flatten(input_shape=(28, 28)),        \n",
        "          layers.Dense(hidden_units_[i], activation='relu'),\n",
        "          layers.Dense(hidden_units_[i], activation='relu'),        \n",
        "          layers.Dense(10, activation='softmax')\n",
        "          ])\n",
        "        if hidden_layers_[j] == 3:        \n",
        "          model = Sequential([\n",
        "          layers.Flatten(input_shape=(28, 28)),        \n",
        "          layers.Dense(hidden_units_[i], activation='relu'),\n",
        "          layers.Dense(hidden_units_[i], activation='relu'),\n",
        "          layers.Dense(hidden_units_[i], activation='relu'),        \n",
        "          layers.Dense(10, activation='softmax')\n",
        "          ])\n",
        "        \n",
        "        if solver_[l] == 'sgd':\n",
        "          optimizer = optimizers.SGD(lr=lr_[k], momentum = momentum_, nesterov=nesterov_)     \n",
        "          model.compile(optimizer=optimizer, loss='sparse_categorical_crossentropy', metrics=['accuracy'])\n",
        "          history = model.fit(x_train, y_train, epochs=epochs_, verbose=0, batch_size=batch_size_, validation_data=(x_test, y_test))\n",
        "          test_loss[caso], test_acc[caso] = model.evaluate(x_test, y_test, verbose=0)  \n",
        "          if test_acc[caso]>max_acc:\n",
        "            max_acc = test_acc[caso]\n",
        "            neu_opt = hidden_units_[i]\n",
        "            lay_opt = hidden_layers_[j]\n",
        "            lra_opt = lr_[k]\n",
        "            sol_opt = solver_[l]\n",
        "            hist_opt = history\n",
        "\n",
        "        if solver_[l] == 'adam':\n",
        "          optimizer = optimizers.Adam(lr=lr_[k])\n",
        "          model.compile(optimizer=optimizer, loss='sparse_categorical_crossentropy', metrics=['accuracy'])  \n",
        "          history = model.fit(x_train, y_train, epochs=epochs_, verbose=0, batch_size=batch_size_, validation_data=(x_test, y_test))\n",
        "          test_loss[caso], test_acc[caso] = model.evaluate(x_test, y_test, verbose=0)  \n",
        "          if test_acc[caso]>max_acc:\n",
        "            max_acc = test_acc[caso]\n",
        "            neu_opt = hidden_units_[i]\n",
        "            lay_opt = hidden_layers_[j]\n",
        "            lra_opt = lr_[k]\n",
        "            sol_opt = solver_[l]\n",
        "            hist_opt = history\n",
        "        print(\"Para el caso número\",caso,\"el accuracy es igual a\",test_acc[caso])\n",
        "        caso += 1"
      ],
      "execution_count": 0,
      "outputs": [
        {
          "output_type": "stream",
          "text": [
            "Para el caso número 0 el accuracy es igual a 0.8690999746322632\n",
            "Para el caso número 1 el accuracy es igual a 0.8974000215530396\n",
            "Para el caso número 2 el accuracy es igual a 0.9003999829292297\n",
            "Para el caso número 3 el accuracy es igual a 0.6608999967575073\n",
            "Para el caso número 4 el accuracy es igual a 0.8032000064849854\n",
            "Para el caso número 5 el accuracy es igual a 0.17679999768733978\n",
            "Para el caso número 6 el accuracy es igual a 0.866599977016449\n",
            "Para el caso número 7 el accuracy es igual a 0.8725000023841858\n",
            "Para el caso número 8 el accuracy es igual a 0.8769999742507935\n",
            "Para el caso número 9 el accuracy es igual a 0.6643999814987183\n",
            "Para el caso número 10 el accuracy es igual a 0.2912999987602234\n",
            "Para el caso número 11 el accuracy es igual a 0.20759999752044678\n",
            "Para el caso número 12 el accuracy es igual a 0.8557000160217285\n",
            "Para el caso número 13 el accuracy es igual a 0.8590999841690063\n",
            "Para el caso número 14 el accuracy es igual a 0.8781999945640564\n",
            "Para el caso número 15 el accuracy es igual a 0.8032000064849854\n",
            "Para el caso número 16 el accuracy es igual a 0.19359999895095825\n",
            "Para el caso número 17 el accuracy es igual a 0.11349999904632568\n",
            "Para el caso número 18 el accuracy es igual a 0.9226999878883362\n",
            "Para el caso número 19 el accuracy es igual a 0.9333000183105469\n",
            "Para el caso número 20 el accuracy es igual a 0.9363999962806702\n",
            "Para el caso número 21 el accuracy es igual a 0.9090999960899353\n",
            "Para el caso número 22 el accuracy es igual a 0.9150999784469604\n",
            "Para el caso número 23 el accuracy es igual a 0.3336000144481659\n",
            "Para el caso número 24 el accuracy es igual a 0.9225000143051147\n",
            "Para el caso número 25 el accuracy es igual a 0.9373000264167786\n",
            "Para el caso número 26 el accuracy es igual a 0.932699978351593\n",
            "Para el caso número 27 el accuracy es igual a 0.9265999794006348\n",
            "Para el caso número 28 el accuracy es igual a 0.21170000731945038\n",
            "Para el caso número 29 el accuracy es igual a 0.1868000030517578\n",
            "Para el caso número 30 el accuracy es igual a 0.9236999750137329\n",
            "Para el caso número 31 el accuracy es igual a 0.9366000294685364\n",
            "Para el caso número 32 el accuracy es igual a 0.9423999786376953\n",
            "Para el caso número 33 el accuracy es igual a 0.9125000238418579\n",
            "Para el caso número 34 el accuracy es igual a 0.11349999904632568\n",
            "Para el caso número 35 el accuracy es igual a 0.1665000021457672\n",
            "Para el caso número 36 el accuracy es igual a 0.9330000281333923\n",
            "Para el caso número 37 el accuracy es igual a 0.9509999752044678\n",
            "Para el caso número 38 el accuracy es igual a 0.9513999819755554\n",
            "Para el caso número 39 el accuracy es igual a 0.9420999884605408\n",
            "Para el caso número 40 el accuracy es igual a 0.9298999905586243\n",
            "Para el caso número 41 el accuracy es igual a 0.43529999256134033\n",
            "Para el caso número 42 el accuracy es igual a 0.9401999711990356\n",
            "Para el caso número 43 el accuracy es igual a 0.9501000046730042\n",
            "Para el caso número 44 el accuracy es igual a 0.9444000124931335\n",
            "Para el caso número 45 el accuracy es igual a 0.9294999837875366\n",
            "Para el caso número 46 el accuracy es igual a 0.9218000173568726\n",
            "Para el caso número 47 el accuracy es igual a 0.20829999446868896\n",
            "Para el caso número 48 el accuracy es igual a 0.942300021648407\n",
            "Para el caso número 49 el accuracy es igual a 0.9510999917984009\n",
            "Para el caso número 50 el accuracy es igual a 0.9366000294685364\n",
            "Para el caso número 51 el accuracy es igual a 0.9284999966621399\n",
            "Para el caso número 52 el accuracy es igual a 0.10620000213384628\n",
            "Para el caso número 53 el accuracy es igual a 0.1738000065088272\n"
          ],
          "name": "stdout"
        }
      ]
    },
    {
      "cell_type": "code",
      "metadata": {
        "id": "2kLREXQzzEK7",
        "colab_type": "code",
        "outputId": "84030974-1547-4fea-a35e-6b4a280abab0",
        "colab": {
          "base_uri": "https://localhost:8080/",
          "height": 950
        }
      },
      "source": [
        "#mostrar resumen de todos los resultados y finalmente el caso óptimo\n",
        "caso = 0\n",
        "for i in range(len(hidden_units_)):\n",
        "\tfor j in range(len(hidden_layers_)):\n",
        "\t\tfor k in range(len(lr_)):\n",
        "\t\t\tfor l in range(len(solver_)):\n",
        "\t\t\t\tprint(\"Cantidad de layers\",hidden_layers_[j],\". Cantidad de neuronas\", hidden_units_[i],\". Solver:\",solver_[l],\". Learning rate:\", lr_[k],\". Accuracy:\", test_acc[caso])\n",
        "\t\t\t\tcaso += 1\t\t\t\t\n",
        "print(\"---------------------------------------------\")\n",
        "print(\"El Accuracy máximo es:\",max_acc,\". Para el caso con\",lay_opt,\" layers,\",neu_opt,\"cantidad de neuronas, \",sol_opt,\" y un learning rate de\",lra_opt)"
      ],
      "execution_count": 0,
      "outputs": [
        {
          "output_type": "stream",
          "text": [
            "Cantidad de layers 1 . Cantidad de neuronas 5 . Solver: sgd . Learning rate: 0.001 . Accuracy: 0.8690999746322632\n",
            "Cantidad de layers 1 . Cantidad de neuronas 5 . Solver: adam . Learning rate: 0.001 . Accuracy: 0.8974000215530396\n",
            "Cantidad de layers 1 . Cantidad de neuronas 5 . Solver: sgd . Learning rate: 0.01 . Accuracy: 0.9003999829292297\n",
            "Cantidad de layers 1 . Cantidad de neuronas 5 . Solver: adam . Learning rate: 0.01 . Accuracy: 0.6608999967575073\n",
            "Cantidad de layers 1 . Cantidad de neuronas 5 . Solver: sgd . Learning rate: 0.1 . Accuracy: 0.8032000064849854\n",
            "Cantidad de layers 1 . Cantidad de neuronas 5 . Solver: adam . Learning rate: 0.1 . Accuracy: 0.17679999768733978\n",
            "Cantidad de layers 2 . Cantidad de neuronas 5 . Solver: sgd . Learning rate: 0.001 . Accuracy: 0.866599977016449\n",
            "Cantidad de layers 2 . Cantidad de neuronas 5 . Solver: adam . Learning rate: 0.001 . Accuracy: 0.8725000023841858\n",
            "Cantidad de layers 2 . Cantidad de neuronas 5 . Solver: sgd . Learning rate: 0.01 . Accuracy: 0.8769999742507935\n",
            "Cantidad de layers 2 . Cantidad de neuronas 5 . Solver: adam . Learning rate: 0.01 . Accuracy: 0.6643999814987183\n",
            "Cantidad de layers 2 . Cantidad de neuronas 5 . Solver: sgd . Learning rate: 0.1 . Accuracy: 0.2912999987602234\n",
            "Cantidad de layers 2 . Cantidad de neuronas 5 . Solver: adam . Learning rate: 0.1 . Accuracy: 0.20759999752044678\n",
            "Cantidad de layers 3 . Cantidad de neuronas 5 . Solver: sgd . Learning rate: 0.001 . Accuracy: 0.8557000160217285\n",
            "Cantidad de layers 3 . Cantidad de neuronas 5 . Solver: adam . Learning rate: 0.001 . Accuracy: 0.8590999841690063\n",
            "Cantidad de layers 3 . Cantidad de neuronas 5 . Solver: sgd . Learning rate: 0.01 . Accuracy: 0.8781999945640564\n",
            "Cantidad de layers 3 . Cantidad de neuronas 5 . Solver: adam . Learning rate: 0.01 . Accuracy: 0.8032000064849854\n",
            "Cantidad de layers 3 . Cantidad de neuronas 5 . Solver: sgd . Learning rate: 0.1 . Accuracy: 0.19359999895095825\n",
            "Cantidad de layers 3 . Cantidad de neuronas 5 . Solver: adam . Learning rate: 0.1 . Accuracy: 0.11349999904632568\n",
            "Cantidad de layers 1 . Cantidad de neuronas 10 . Solver: sgd . Learning rate: 0.001 . Accuracy: 0.9226999878883362\n",
            "Cantidad de layers 1 . Cantidad de neuronas 10 . Solver: adam . Learning rate: 0.001 . Accuracy: 0.9333000183105469\n",
            "Cantidad de layers 1 . Cantidad de neuronas 10 . Solver: sgd . Learning rate: 0.01 . Accuracy: 0.9363999962806702\n",
            "Cantidad de layers 1 . Cantidad de neuronas 10 . Solver: adam . Learning rate: 0.01 . Accuracy: 0.9090999960899353\n",
            "Cantidad de layers 1 . Cantidad de neuronas 10 . Solver: sgd . Learning rate: 0.1 . Accuracy: 0.9150999784469604\n",
            "Cantidad de layers 1 . Cantidad de neuronas 10 . Solver: adam . Learning rate: 0.1 . Accuracy: 0.3336000144481659\n",
            "Cantidad de layers 2 . Cantidad de neuronas 10 . Solver: sgd . Learning rate: 0.001 . Accuracy: 0.9225000143051147\n",
            "Cantidad de layers 2 . Cantidad de neuronas 10 . Solver: adam . Learning rate: 0.001 . Accuracy: 0.9373000264167786\n",
            "Cantidad de layers 2 . Cantidad de neuronas 10 . Solver: sgd . Learning rate: 0.01 . Accuracy: 0.932699978351593\n",
            "Cantidad de layers 2 . Cantidad de neuronas 10 . Solver: adam . Learning rate: 0.01 . Accuracy: 0.9265999794006348\n",
            "Cantidad de layers 2 . Cantidad de neuronas 10 . Solver: sgd . Learning rate: 0.1 . Accuracy: 0.21170000731945038\n",
            "Cantidad de layers 2 . Cantidad de neuronas 10 . Solver: adam . Learning rate: 0.1 . Accuracy: 0.1868000030517578\n",
            "Cantidad de layers 3 . Cantidad de neuronas 10 . Solver: sgd . Learning rate: 0.001 . Accuracy: 0.9236999750137329\n",
            "Cantidad de layers 3 . Cantidad de neuronas 10 . Solver: adam . Learning rate: 0.001 . Accuracy: 0.9366000294685364\n",
            "Cantidad de layers 3 . Cantidad de neuronas 10 . Solver: sgd . Learning rate: 0.01 . Accuracy: 0.9423999786376953\n",
            "Cantidad de layers 3 . Cantidad de neuronas 10 . Solver: adam . Learning rate: 0.01 . Accuracy: 0.9125000238418579\n",
            "Cantidad de layers 3 . Cantidad de neuronas 10 . Solver: sgd . Learning rate: 0.1 . Accuracy: 0.11349999904632568\n",
            "Cantidad de layers 3 . Cantidad de neuronas 10 . Solver: adam . Learning rate: 0.1 . Accuracy: 0.1665000021457672\n",
            "Cantidad de layers 1 . Cantidad de neuronas 15 . Solver: sgd . Learning rate: 0.001 . Accuracy: 0.9330000281333923\n",
            "Cantidad de layers 1 . Cantidad de neuronas 15 . Solver: adam . Learning rate: 0.001 . Accuracy: 0.9509999752044678\n",
            "Cantidad de layers 1 . Cantidad de neuronas 15 . Solver: sgd . Learning rate: 0.01 . Accuracy: 0.9513999819755554\n",
            "Cantidad de layers 1 . Cantidad de neuronas 15 . Solver: adam . Learning rate: 0.01 . Accuracy: 0.9420999884605408\n",
            "Cantidad de layers 1 . Cantidad de neuronas 15 . Solver: sgd . Learning rate: 0.1 . Accuracy: 0.9298999905586243\n",
            "Cantidad de layers 1 . Cantidad de neuronas 15 . Solver: adam . Learning rate: 0.1 . Accuracy: 0.43529999256134033\n",
            "Cantidad de layers 2 . Cantidad de neuronas 15 . Solver: sgd . Learning rate: 0.001 . Accuracy: 0.9401999711990356\n",
            "Cantidad de layers 2 . Cantidad de neuronas 15 . Solver: adam . Learning rate: 0.001 . Accuracy: 0.9501000046730042\n",
            "Cantidad de layers 2 . Cantidad de neuronas 15 . Solver: sgd . Learning rate: 0.01 . Accuracy: 0.9444000124931335\n",
            "Cantidad de layers 2 . Cantidad de neuronas 15 . Solver: adam . Learning rate: 0.01 . Accuracy: 0.9294999837875366\n",
            "Cantidad de layers 2 . Cantidad de neuronas 15 . Solver: sgd . Learning rate: 0.1 . Accuracy: 0.9218000173568726\n",
            "Cantidad de layers 2 . Cantidad de neuronas 15 . Solver: adam . Learning rate: 0.1 . Accuracy: 0.20829999446868896\n",
            "Cantidad de layers 3 . Cantidad de neuronas 15 . Solver: sgd . Learning rate: 0.001 . Accuracy: 0.942300021648407\n",
            "Cantidad de layers 3 . Cantidad de neuronas 15 . Solver: adam . Learning rate: 0.001 . Accuracy: 0.9510999917984009\n",
            "Cantidad de layers 3 . Cantidad de neuronas 15 . Solver: sgd . Learning rate: 0.01 . Accuracy: 0.9366000294685364\n",
            "Cantidad de layers 3 . Cantidad de neuronas 15 . Solver: adam . Learning rate: 0.01 . Accuracy: 0.9284999966621399\n",
            "Cantidad de layers 3 . Cantidad de neuronas 15 . Solver: sgd . Learning rate: 0.1 . Accuracy: 0.10620000213384628\n",
            "Cantidad de layers 3 . Cantidad de neuronas 15 . Solver: adam . Learning rate: 0.1 . Accuracy: 0.1738000065088272\n",
            "---------------------------------------------\n",
            "El Accuracy máximo es: 0.9513999819755554 . Para el caso con 1  layers, 15 cantidad de neuronas,  sgd  y un learning rate de 0.01\n"
          ],
          "name": "stdout"
        }
      ]
    },
    {
      "cell_type": "code",
      "metadata": {
        "id": "4FJqCI7rzLue",
        "colab_type": "code",
        "outputId": "69b4453f-7126-4643-c204-503429500f06",
        "colab": {
          "base_uri": "https://localhost:8080/",
          "height": 283
        }
      },
      "source": [
        "plot_accuracy_and_loss(hist_opt)"
      ],
      "execution_count": 0,
      "outputs": [
        {
          "output_type": "display_data",
          "data": {
            "image/png": "[encoded data removed]",
            "text/plain": [
              "<Figure size 432x288 with 1 Axes>"
            ]
          },
          "metadata": {
            "tags": [],
            "needs_background": "light"
          }
        }
      ]
    }
  ]
}