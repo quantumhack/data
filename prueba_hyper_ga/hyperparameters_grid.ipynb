{
  "nbformat": 4,
  "nbformat_minor": 0,
  "metadata": {
    "colab": {
      "name": "hyperparameters_grid.ipynb",
      "provenance": [],
      "collapsed_sections": []
    },
    "kernelspec": {
      "name": "python3",
      "display_name": "Python 3"
    }
  },
  "cells": [
    {
      "cell_type": "markdown",
      "metadata": {
        "id": "view-in-github",
        "colab_type": "text"
      },
      "source": [
        "<a href=\"https://colab.research.google.com/github/agustinsilva447/CDL/blob/master/mnist_hyperparameters.ipynb\" target=\"_parent\"><img src=\"https://colab.research.google.com/assets/colab-badge.svg\" alt=\"Open In Colab\"/></a>"
      ]
    },
    {
      "cell_type": "code",
      "metadata": {
        "id": "OQM78DE1Eugu",
        "colab_type": "code",
        "colab": {}
      },
      "source": [
        "import tensorflow as tf\n",
        "from tensorflow.keras import layers, optimizers\n",
        "from tensorflow.keras.models import Sequential\n",
        "from tensorflow.keras.datasets import mnist\n",
        "import matplotlib.pyplot as plt"
      ],
      "execution_count": 0,
      "outputs": []
    },
    {
      "cell_type": "code",
      "metadata": {
        "id": "ZkDW8TaqvMzY",
        "colab_type": "code",
        "colab": {}
      },
      "source": [
        "#función para graficar el accuracy en función de la cantidad de epochs\n",
        "def plot_accuracy_and_loss(history):\n",
        "\tplt.plot(history.history['accuracy'], label='accuracy')\n",
        "\tplt.plot(history.history['val_accuracy'], label = 'val_accuracy')\n",
        "\tplt.xlabel('Epoch')\n",
        "\tplt.ylabel('Accuracy')\n",
        "\tplt.ylim([0.5, 1])\n",
        "\tplt.legend(loc='lower right')"
      ],
      "execution_count": 0,
      "outputs": []
    },
    {
      "cell_type": "code",
      "metadata": {
        "id": "tM0GeNFCvRUq",
        "colab_type": "code",
        "colab": {}
      },
      "source": [
        "#cargando el dataset MNIST desde keras\n",
        "(x_train, y_train), (x_test, y_test) = mnist.load_data()\n",
        "#normalizando los valores de los pixels para que estén entre 0 y 1\n",
        "x_train, x_test = x_train / 255.0, x_test / 255.0"
      ],
      "execution_count": 0,
      "outputs": []
    },
    {
      "cell_type": "code",
      "metadata": {
        "id": "AetL_F0AvTqp",
        "colab_type": "code",
        "colab": {}
      },
      "source": [
        "# Todas estas son la posibles variables que se pueden autoconfigurar\n",
        "# sin embargo, solo vamos a trabajar con 3 para que las simulaciones\n",
        "# no lleven tanto tiempo. Vamos a trabajar con una red neuronal \n",
        "# con 2 hidden layers y optimizada utilizando stochastic gradient descent. \n",
        "# Vamos a tunear 3 parámetros: el learning rate, la cantidad de neuronas \n",
        "# por hidden layer y la cantidad de epochs.\n",
        "hidden_units_ = [5, 10, 15]\n",
        "hidden_layers_ = [1, 2, 3]\n",
        "solver_ = ['sgd', 'adam']\n",
        "lr_ = [0.001, 0.01, 0.1]\n",
        "#evaluamos 54 casos\n",
        "epochs_ = 10\n",
        "batch_size_ = 32\n",
        "momentum_ = 0.9\t\n",
        "nesterov_ = True"
      ],
      "execution_count": 0,
      "outputs": []
    },
    {
      "cell_type": "code",
      "metadata": {
        "id": "n228wXQHvWkT",
        "colab_type": "code",
        "colab": {}
      },
      "source": [
        "#inicialización de algunas variables\n",
        "test_loss = [0] * (len(hidden_units_) * len(hidden_layers_) * len(solver_) * len(lr_))\n",
        "test_acc =  [0] * (len(hidden_units_) * len(hidden_layers_) * len(solver_) * len(lr_))\n",
        "caso = 0\n",
        "max_acc = 0"
      ],
      "execution_count": 0,
      "outputs": []
    },
    {
      "cell_type": "code",
      "metadata": {
        "id": "gfxBFP2kxbep",
        "colab_type": "code",
        "outputId": "4a5d3346-4ca1-4986-9a3a-76603d570a7e",
        "colab": {
          "base_uri": "https://localhost:8080/",
          "height": 916
        }
      },
      "source": [
        "# Barremos con los distintos valores de neuronas (3), epochs (2) \n",
        "# y learning rate (3). Para cada caso calculamos la accuracy y \n",
        "# nos quedamos con el caso con el valor más alto\n",
        "for i in range(len(hidden_units_)):\n",
        "  for j in range(len(hidden_layers_)):\n",
        "    for k in range(len(lr_)):\n",
        "      for l in range(len(solver_)):\n",
        "\n",
        "        model = Sequential()\n",
        "        model.add(layers.Flatten(input_shape=(28, 28)))\n",
        "        model.add(layers.Dense(hidden_units_[i], input_shape=(28, 28), activation='relu'))\n",
        "        for i in range(hidden_layers_[j] - 1):\n",
        "          model.add(layers.Dense(hidden_units_[i], activation='relu'))\n",
        "        model.add(layers.Dense(10,activation='softmax'))\n",
        "        \n",
        "        if solver_[l] == 'sgd':\n",
        "          optimizer = optimizers.SGD(lr=lr_[k], momentum = momentum_, nesterov=nesterov_)\n",
        "        if solver_[l] == 'Adam':\n",
        "          optimizer = optimizers.Adam(lr=lr_[k])\n",
        "\n",
        "        model.compile(optimizer=optimizer, loss='sparse_categorical_crossentropy', metrics=['accuracy'])\n",
        "        history = model.fit(x_train, y_train, epochs=epochs_, verbose=0, batch_size=batch_size_, validation_data=(x_test, y_test))\n",
        "        test_loss[caso], test_acc[caso] = model.evaluate(x_test, y_test, verbose=0)  \n",
        "        if test_acc[caso]>max_acc:\n",
        "          max_acc = test_acc[caso]\n",
        "          neu_opt = hidden_units_[i]\n",
        "          lay_opt = hidden_layers_[j]\n",
        "          lra_opt = lr_[k]\n",
        "          sol_opt = solver_[l]\n",
        "          hist_opt = history\n",
        "        \n",
        "        print(\"Para el caso número\",caso,\"el accuracy es igual a\",test_acc[caso])\n",
        "        caso += 1"
      ],
      "execution_count": 13,
      "outputs": [
        {
          "output_type": "stream",
          "text": [
            "Para el caso número 0 el accuracy es igual a 0.8652999997138977\n",
            "Para el caso número 1 el accuracy es igual a 0.8761000037193298\n",
            "Para el caso número 2 el accuracy es igual a 0.8920999765396118\n",
            "Para el caso número 3 el accuracy es igual a 0.858299970626831\n",
            "Para el caso número 4 el accuracy es igual a 0.8457000255584717\n",
            "Para el caso número 5 el accuracy es igual a 0.7914999723434448\n",
            "Para el caso número 6 el accuracy es igual a 0.8777999877929688\n",
            "Para el caso número 7 el accuracy es igual a 0.8058000206947327\n",
            "Para el caso número 8 el accuracy es igual a 0.8826000094413757\n",
            "Para el caso número 9 el accuracy es igual a 0.8896999955177307\n",
            "Para el caso número 10 el accuracy es igual a 0.20059999823570251\n",
            "Para el caso número 11 el accuracy es igual a 0.2948000133037567\n",
            "Para el caso número 12 el accuracy es igual a 0.86080002784729\n",
            "Para el caso número 13 el accuracy es igual a 0.9103999733924866\n",
            "Para el caso número 14 el accuracy es igual a 0.9322999715805054\n",
            "Para el caso número 15 el accuracy es igual a 0.9298999905586243\n",
            "Para el caso número 16 el accuracy es igual a 0.20090000331401825\n",
            "Para el caso número 17 el accuracy es igual a 0.20630000531673431\n",
            "Para el caso número 18 el accuracy es igual a 0.9244999885559082\n",
            "Para el caso número 19 el accuracy es igual a 0.9211999773979187\n",
            "Para el caso número 20 el accuracy es igual a 0.9380999803543091\n",
            "Para el caso número 21 el accuracy es igual a 0.9366000294685364\n",
            "Para el caso número 22 el accuracy es igual a 0.8920999765396118\n",
            "Para el caso número 23 el accuracy es igual a 0.8942999839782715\n",
            "Para el caso número 24 el accuracy es igual a 0.8932999968528748\n",
            "Para el caso número 25 el accuracy es igual a 0.8866999745368958\n",
            "Para el caso número 26 el accuracy es igual a 0.8407999873161316\n",
            "Para el caso número 27 el accuracy es igual a 0.8884999752044678\n",
            "Para el caso número 28 el accuracy es igual a 0.11349999904632568\n",
            "Para el caso número 29 el accuracy es igual a 0.2093999981880188\n",
            "Para el caso número 30 el accuracy es igual a 0.8863999843597412\n",
            "Para el caso número 31 el accuracy es igual a 0.9124000072479248\n",
            "Para el caso número 32 el accuracy es igual a 0.91839998960495\n",
            "Para el caso número 33 el accuracy es igual a 0.9340999722480774\n",
            "Para el caso número 34 el accuracy es igual a 0.09740000218153\n",
            "Para el caso número 35 el accuracy es igual a 0.10100000351667404\n",
            "Para el caso número 36 el accuracy es igual a 0.9322999715805054\n",
            "Para el caso número 37 el accuracy es igual a 0.9312000274658203\n",
            "Para el caso número 38 el accuracy es igual a 0.953000009059906\n",
            "Para el caso número 39 el accuracy es igual a 0.9514999985694885\n",
            "Para el caso número 40 el accuracy es igual a 0.9236999750137329\n",
            "Para el caso número 41 el accuracy es igual a 0.9190000295639038\n",
            "Para el caso número 42 el accuracy es igual a 0.9082000255584717\n",
            "Para el caso número 43 el accuracy es igual a 0.8644000291824341\n",
            "Para el caso número 44 el accuracy es igual a 0.8565999865531921\n",
            "Para el caso número 45 el accuracy es igual a 0.8815000057220459\n",
            "Para el caso número 46 el accuracy es igual a 0.21130000054836273\n",
            "Para el caso número 47 el accuracy es igual a 0.09769999980926514\n",
            "Para el caso número 48 el accuracy es igual a 0.8349999785423279\n",
            "Para el caso número 49 el accuracy es igual a 0.9107999801635742\n",
            "Para el caso número 50 el accuracy es igual a 0.9189000129699707\n",
            "Para el caso número 51 el accuracy es igual a 0.9226999878883362\n",
            "Para el caso número 52 el accuracy es igual a 0.11349999904632568\n",
            "Para el caso número 53 el accuracy es igual a 0.2076999992132187\n"
          ],
          "name": "stdout"
        }
      ]
    },
    {
      "cell_type": "code",
      "metadata": {
        "id": "2kLREXQzzEK7",
        "colab_type": "code",
        "outputId": "37a560b8-9eff-4e82-a334-b791fee73a6a",
        "colab": {
          "base_uri": "https://localhost:8080/",
          "height": 950
        }
      },
      "source": [
        "#mostrar resumen de todos los resultados y finalmente el caso óptimo\n",
        "caso = 0\n",
        "for i in range(len(hidden_units_)):\n",
        "\tfor j in range(len(hidden_layers_)):\n",
        "\t\tfor k in range(len(lr_)):\n",
        "\t\t\tfor l in range(len(solver_)):\n",
        "\t\t\t\tprint(\"Cantidad de layers\",hidden_layers_[j],\". Cantidad de neuronas\", hidden_units_[i],\". Solver:\",solver_[l],\". Learning rate:\", lr_[k],\". Accuracy:\", test_acc[caso])\n",
        "\t\t\t\tcaso += 1\t\t\t\t\n",
        "print(\"---------------------------------------------\")\n",
        "print(\"El Accuracy máximo es:\",max_acc,\". Para el caso con\",lay_opt,\" layers,\",neu_opt,\"cantidad de neuronas, \",sol_opt,\" y un learning rate de\",lra_opt)"
      ],
      "execution_count": 14,
      "outputs": [
        {
          "output_type": "stream",
          "text": [
            "Cantidad de layers 1 . Cantidad de neuronas 5 . Solver: sgd . Learning rate: 0.001 . Accuracy: 0.8652999997138977\n",
            "Cantidad de layers 1 . Cantidad de neuronas 5 . Solver: adam . Learning rate: 0.001 . Accuracy: 0.8761000037193298\n",
            "Cantidad de layers 1 . Cantidad de neuronas 5 . Solver: sgd . Learning rate: 0.01 . Accuracy: 0.8920999765396118\n",
            "Cantidad de layers 1 . Cantidad de neuronas 5 . Solver: adam . Learning rate: 0.01 . Accuracy: 0.858299970626831\n",
            "Cantidad de layers 1 . Cantidad de neuronas 5 . Solver: sgd . Learning rate: 0.1 . Accuracy: 0.8457000255584717\n",
            "Cantidad de layers 1 . Cantidad de neuronas 5 . Solver: adam . Learning rate: 0.1 . Accuracy: 0.7914999723434448\n",
            "Cantidad de layers 2 . Cantidad de neuronas 5 . Solver: sgd . Learning rate: 0.001 . Accuracy: 0.8777999877929688\n",
            "Cantidad de layers 2 . Cantidad de neuronas 5 . Solver: adam . Learning rate: 0.001 . Accuracy: 0.8058000206947327\n",
            "Cantidad de layers 2 . Cantidad de neuronas 5 . Solver: sgd . Learning rate: 0.01 . Accuracy: 0.8826000094413757\n",
            "Cantidad de layers 2 . Cantidad de neuronas 5 . Solver: adam . Learning rate: 0.01 . Accuracy: 0.8896999955177307\n",
            "Cantidad de layers 2 . Cantidad de neuronas 5 . Solver: sgd . Learning rate: 0.1 . Accuracy: 0.20059999823570251\n",
            "Cantidad de layers 2 . Cantidad de neuronas 5 . Solver: adam . Learning rate: 0.1 . Accuracy: 0.2948000133037567\n",
            "Cantidad de layers 3 . Cantidad de neuronas 5 . Solver: sgd . Learning rate: 0.001 . Accuracy: 0.86080002784729\n",
            "Cantidad de layers 3 . Cantidad de neuronas 5 . Solver: adam . Learning rate: 0.001 . Accuracy: 0.9103999733924866\n",
            "Cantidad de layers 3 . Cantidad de neuronas 5 . Solver: sgd . Learning rate: 0.01 . Accuracy: 0.9322999715805054\n",
            "Cantidad de layers 3 . Cantidad de neuronas 5 . Solver: adam . Learning rate: 0.01 . Accuracy: 0.9298999905586243\n",
            "Cantidad de layers 3 . Cantidad de neuronas 5 . Solver: sgd . Learning rate: 0.1 . Accuracy: 0.20090000331401825\n",
            "Cantidad de layers 3 . Cantidad de neuronas 5 . Solver: adam . Learning rate: 0.1 . Accuracy: 0.20630000531673431\n",
            "Cantidad de layers 1 . Cantidad de neuronas 10 . Solver: sgd . Learning rate: 0.001 . Accuracy: 0.9244999885559082\n",
            "Cantidad de layers 1 . Cantidad de neuronas 10 . Solver: adam . Learning rate: 0.001 . Accuracy: 0.9211999773979187\n",
            "Cantidad de layers 1 . Cantidad de neuronas 10 . Solver: sgd . Learning rate: 0.01 . Accuracy: 0.9380999803543091\n",
            "Cantidad de layers 1 . Cantidad de neuronas 10 . Solver: adam . Learning rate: 0.01 . Accuracy: 0.9366000294685364\n",
            "Cantidad de layers 1 . Cantidad de neuronas 10 . Solver: sgd . Learning rate: 0.1 . Accuracy: 0.8920999765396118\n",
            "Cantidad de layers 1 . Cantidad de neuronas 10 . Solver: adam . Learning rate: 0.1 . Accuracy: 0.8942999839782715\n",
            "Cantidad de layers 2 . Cantidad de neuronas 10 . Solver: sgd . Learning rate: 0.001 . Accuracy: 0.8932999968528748\n",
            "Cantidad de layers 2 . Cantidad de neuronas 10 . Solver: adam . Learning rate: 0.001 . Accuracy: 0.8866999745368958\n",
            "Cantidad de layers 2 . Cantidad de neuronas 10 . Solver: sgd . Learning rate: 0.01 . Accuracy: 0.8407999873161316\n",
            "Cantidad de layers 2 . Cantidad de neuronas 10 . Solver: adam . Learning rate: 0.01 . Accuracy: 0.8884999752044678\n",
            "Cantidad de layers 2 . Cantidad de neuronas 10 . Solver: sgd . Learning rate: 0.1 . Accuracy: 0.11349999904632568\n",
            "Cantidad de layers 2 . Cantidad de neuronas 10 . Solver: adam . Learning rate: 0.1 . Accuracy: 0.2093999981880188\n",
            "Cantidad de layers 3 . Cantidad de neuronas 10 . Solver: sgd . Learning rate: 0.001 . Accuracy: 0.8863999843597412\n",
            "Cantidad de layers 3 . Cantidad de neuronas 10 . Solver: adam . Learning rate: 0.001 . Accuracy: 0.9124000072479248\n",
            "Cantidad de layers 3 . Cantidad de neuronas 10 . Solver: sgd . Learning rate: 0.01 . Accuracy: 0.91839998960495\n",
            "Cantidad de layers 3 . Cantidad de neuronas 10 . Solver: adam . Learning rate: 0.01 . Accuracy: 0.9340999722480774\n",
            "Cantidad de layers 3 . Cantidad de neuronas 10 . Solver: sgd . Learning rate: 0.1 . Accuracy: 0.09740000218153\n",
            "Cantidad de layers 3 . Cantidad de neuronas 10 . Solver: adam . Learning rate: 0.1 . Accuracy: 0.10100000351667404\n",
            "Cantidad de layers 1 . Cantidad de neuronas 15 . Solver: sgd . Learning rate: 0.001 . Accuracy: 0.9322999715805054\n",
            "Cantidad de layers 1 . Cantidad de neuronas 15 . Solver: adam . Learning rate: 0.001 . Accuracy: 0.9312000274658203\n",
            "Cantidad de layers 1 . Cantidad de neuronas 15 . Solver: sgd . Learning rate: 0.01 . Accuracy: 0.953000009059906\n",
            "Cantidad de layers 1 . Cantidad de neuronas 15 . Solver: adam . Learning rate: 0.01 . Accuracy: 0.9514999985694885\n",
            "Cantidad de layers 1 . Cantidad de neuronas 15 . Solver: sgd . Learning rate: 0.1 . Accuracy: 0.9236999750137329\n",
            "Cantidad de layers 1 . Cantidad de neuronas 15 . Solver: adam . Learning rate: 0.1 . Accuracy: 0.9190000295639038\n",
            "Cantidad de layers 2 . Cantidad de neuronas 15 . Solver: sgd . Learning rate: 0.001 . Accuracy: 0.9082000255584717\n",
            "Cantidad de layers 2 . Cantidad de neuronas 15 . Solver: adam . Learning rate: 0.001 . Accuracy: 0.8644000291824341\n",
            "Cantidad de layers 2 . Cantidad de neuronas 15 . Solver: sgd . Learning rate: 0.01 . Accuracy: 0.8565999865531921\n",
            "Cantidad de layers 2 . Cantidad de neuronas 15 . Solver: adam . Learning rate: 0.01 . Accuracy: 0.8815000057220459\n",
            "Cantidad de layers 2 . Cantidad de neuronas 15 . Solver: sgd . Learning rate: 0.1 . Accuracy: 0.21130000054836273\n",
            "Cantidad de layers 2 . Cantidad de neuronas 15 . Solver: adam . Learning rate: 0.1 . Accuracy: 0.09769999980926514\n",
            "Cantidad de layers 3 . Cantidad de neuronas 15 . Solver: sgd . Learning rate: 0.001 . Accuracy: 0.8349999785423279\n",
            "Cantidad de layers 3 . Cantidad de neuronas 15 . Solver: adam . Learning rate: 0.001 . Accuracy: 0.9107999801635742\n",
            "Cantidad de layers 3 . Cantidad de neuronas 15 . Solver: sgd . Learning rate: 0.01 . Accuracy: 0.9189000129699707\n",
            "Cantidad de layers 3 . Cantidad de neuronas 15 . Solver: adam . Learning rate: 0.01 . Accuracy: 0.9226999878883362\n",
            "Cantidad de layers 3 . Cantidad de neuronas 15 . Solver: sgd . Learning rate: 0.1 . Accuracy: 0.11349999904632568\n",
            "Cantidad de layers 3 . Cantidad de neuronas 15 . Solver: adam . Learning rate: 0.1 . Accuracy: 0.2076999992132187\n",
            "---------------------------------------------\n",
            "El Accuracy máximo es: 0.953000009059906 . Para el caso con 1  layers, 15 cantidad de neuronas,  sgd  y un learning rate de 0.01\n"
          ],
          "name": "stdout"
        }
      ]
    },
    {
      "cell_type": "code",
      "metadata": {
        "id": "4FJqCI7rzLue",
        "colab_type": "code",
        "outputId": "b3e1caac-4b7b-4f18-8ad8-f846c7113c1a",
        "colab": {
          "base_uri": "https://localhost:8080/",
          "height": 283
        }
      },
      "source": [
        "plot_accuracy_and_loss(hist_opt)"
      ],
      "execution_count": 15,
      "outputs": [
        {
          "output_type": "display_data",
          "data": {
            "image/png": "[encoded data removed]",
            "text/plain": [
              "<Figure size 432x288 with 1 Axes>"
            ]
          },
          "metadata": {
            "tags": [],
            "needs_background": "light"
          }
        }
      ]
    },
    {
      "cell_type": "code",
      "metadata": {
        "id": "79YmlF64UUYB",
        "colab_type": "code",
        "colab": {}
      },
      "source": [
        ""
      ],
      "execution_count": 0,
      "outputs": []
    }
  ]
}