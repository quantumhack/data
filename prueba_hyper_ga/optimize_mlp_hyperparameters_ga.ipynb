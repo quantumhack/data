{
  "nbformat": 4,
  "nbformat_minor": 0,
  "metadata": {
    "colab": {
      "name": "optimize-mlp-hyperparameters_ga.ipynb",
      "provenance": []
    },
    "kernelspec": {
      "name": "python3",
      "display_name": "Python 3"
    }
  },
  "cells": [
    {
      "cell_type": "code",
      "metadata": {
        "id": "u_5HvmoYJx2W",
        "colab_type": "code",
        "colab": {
          "base_uri": "https://localhost:8080/",
          "height": 50
        },
        "outputId": "ff2cb19d-8fec-4531-890c-2aff723783d2"
      },
      "source": [
        "!pip install deap"
      ],
      "execution_count": 1,
      "outputs": [
        {
          "output_type": "stream",
          "text": [
            "Requirement already satisfied: deap in /usr/local/lib/python3.6/dist-packages (1.3.1)\n",
            "Requirement already satisfied: numpy in /usr/local/lib/python3.6/dist-packages (from deap) (1.18.3)\n"
          ],
          "name": "stdout"
        }
      ]
    },
    {
      "cell_type": "code",
      "metadata": {
        "id": "6dk5_aCLK4bu",
        "colab_type": "code",
        "colab": {
          "base_uri": "https://localhost:8080/",
          "height": 70
        },
        "outputId": "3aa5379f-0ca0-47d0-952a-2688093664cd"
      },
      "source": [
        "from deap import base\n",
        "from deap import creator\n",
        "from deap import tools\n",
        "\n",
        "import random\n",
        "import numpy\n",
        "import mlp_hyperparameters_test\n",
        "import elitism"
      ],
      "execution_count": 2,
      "outputs": [
        {
          "output_type": "stream",
          "text": [
            "/usr/local/lib/python3.6/dist-packages/sklearn/utils/deprecation.py:144: FutureWarning: The sklearn.utils.testing module is  deprecated in version 0.22 and will be removed in version 0.24. The corresponding classes / functions should instead be imported from sklearn.utils. Anything that cannot be imported from sklearn.utils is now part of the private API.\n",
            "  warnings.warn(message, FutureWarning)\n"
          ],
          "name": "stderr"
        }
      ]
    },
    {
      "cell_type": "code",
      "metadata": {
        "id": "6vi-nzMGLCbF",
        "colab_type": "code",
        "colab": {}
      },
      "source": [
        "RANDOM_SEED = 42\n",
        "random.seed(RANDOM_SEED)\n",
        "\n",
        "BOUNDS_LOW =  [ 5,  -5, -10, -20, 0,     0,     0.0001, 0    ]\n",
        "BOUNDS_HIGH = [15,  10,  10,  10, 2.999, 2.999, 2.0,    2.999]\n",
        "NUM_OF_PARAMS = len(BOUNDS_HIGH)\n",
        "\n",
        "POPULATION_SIZE = 20\n",
        "P_CROSSOVER = 0.9 \n",
        "P_MUTATION = 0.5  \n",
        "MAX_GENERATIONS = 5\n",
        "HALL_OF_FAME_SIZE = 3\n",
        "CROWDING_FACTOR = 10.0 "
      ],
      "execution_count": 0,
      "outputs": []
    },
    {
      "cell_type": "code",
      "metadata": {
        "id": "PfNLBlydLkbM",
        "colab_type": "code",
        "colab": {
          "base_uri": "https://localhost:8080/",
          "height": 70
        },
        "outputId": "d8aa4246-69de-42a1-ea7c-280f143b2628"
      },
      "source": [
        "def classificationAccuracy(individual):\n",
        "    return test.getAccuracy(individual),\n",
        "\n",
        "test = mlp_hyperparameters_test.MlpHyperparametersTest(RANDOM_SEED)\n",
        "toolbox = base.Toolbox()\n",
        "creator.create(\"FitnessMax\", base.Fitness, weights=(1.0,))\n",
        "creator.create(\"Individual\", list, fitness=creator.FitnessMax)\n",
        "\n",
        "for i in range(NUM_OF_PARAMS):\n",
        "    toolbox.register(\"attribute_\" + str(i), random.uniform, BOUNDS_LOW[i], BOUNDS_HIGH[i])\n",
        "\n",
        "attributes = ()\n",
        "for i in range(NUM_OF_PARAMS):\n",
        "    attributes = attributes + (toolbox.__getattribute__(\"attribute_\" + str(i)),)\n",
        "\n",
        "toolbox.register(\"individualCreator\", tools.initCycle, creator.Individual, attributes, n=1)\n",
        "toolbox.register(\"populationCreator\", tools.initRepeat, list, toolbox.individualCreator)\n",
        "toolbox.register(\"evaluate\", classificationAccuracy)\n",
        "toolbox.register(\"select\", tools.selTournament, tournsize=2)\n",
        "toolbox.register(\"mate\", tools.cxSimulatedBinaryBounded, low=BOUNDS_LOW, up=BOUNDS_HIGH, eta=CROWDING_FACTOR)\n",
        "toolbox.register(\"mutate\", tools.mutPolynomialBounded, low=BOUNDS_LOW, up=BOUNDS_HIGH, eta=CROWDING_FACTOR, indpb=1.0/NUM_OF_PARAMS)"
      ],
      "execution_count": 4,
      "outputs": [
        {
          "output_type": "stream",
          "text": [
            "/usr/local/lib/python3.6/dist-packages/sklearn/model_selection/_split.py:296: FutureWarning: Setting a random_state has no effect since shuffle is False. This will raise an error in 0.24. You should leave random_state to its default (None), or set shuffle=True.\n",
            "  FutureWarning\n"
          ],
          "name": "stderr"
        }
      ]
    },
    {
      "cell_type": "code",
      "metadata": {
        "id": "g5CMuZE6JuuI",
        "colab_type": "code",
        "colab": {
          "base_uri": "https://localhost:8080/",
          "height": 133
        },
        "outputId": "b5a10e9c-31c6-47de-f1ba-4c045a0e707d"
      },
      "source": [
        "population = toolbox.populationCreator(n=POPULATION_SIZE)\n",
        "stats = tools.Statistics(lambda ind: ind.fitness.values)\n",
        "stats.register(\"max\", numpy.max)\n",
        "stats.register(\"avg\", numpy.mean)\n",
        "hof = tools.HallOfFame(HALL_OF_FAME_SIZE)\n",
        "population, logbook = elitism.eaSimpleWithElitism(population,\n",
        "                                                  toolbox,\n",
        "                                                  cxpb=P_CROSSOVER,\n",
        "                                                  mutpb=P_MUTATION,\n",
        "                                                  ngen=MAX_GENERATIONS,\n",
        "                                                  stats=stats,\n",
        "                                                  halloffame=hof,\n",
        "                                                  verbose=True)"
      ],
      "execution_count": 5,
      "outputs": [
        {
          "output_type": "stream",
          "text": [
            "gen\tnevals\tmax \tavg  \n",
            "0  \t20    \t0.94\t0.448\n",
            "1  \t16    \t0.94\t0.633\n",
            "2  \t15    \t0.94\t0.737333\n",
            "3  \t16    \t0.946667\t0.841333\n",
            "4  \t15    \t0.946667\t0.929667\n",
            "5  \t17    \t0.946667\t0.912333\n"
          ],
          "name": "stdout"
        }
      ]
    },
    {
      "cell_type": "code",
      "metadata": {
        "id": "eU3ev3SfJ_jr",
        "colab_type": "code",
        "colab": {
          "base_uri": "https://localhost:8080/",
          "height": 133
        },
        "outputId": "e2ef478c-bc18-4ef0-c4d9-508418a1851a"
      },
      "source": [
        "print(\"- Best solution is: \\n\",\n",
        "      test.formatParams(hof.items[0]),\n",
        "      \"\\n => accuracy = \",\n",
        "      hof.items[0].fitness.values[0])"
      ],
      "execution_count": 6,
      "outputs": [
        {
          "output_type": "stream",
          "text": [
            "- Best solution is: \n",
            " 'hidden_layer_sizes'=(8, 3, 6)\n",
            " 'activation'='tanh'\n",
            " 'solver'='lbfgs'\n",
            " 'alpha'=1.380111654273422\n",
            " 'learning_rate'='invscaling' \n",
            " => accuracy =  0.9466666666666667\n"
          ],
          "name": "stdout"
        }
      ]
    },
    {
      "cell_type": "code",
      "metadata": {
        "id": "CtBy4lMGLvVP",
        "colab_type": "code",
        "colab": {}
      },
      "source": [
        ""
      ],
      "execution_count": 0,
      "outputs": []
    }
  ]
}