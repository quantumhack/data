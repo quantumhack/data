{
  "nbformat": 4,
  "nbformat_minor": 0,
  "metadata": {
    "colab": {
      "name": "hyperparameters_ga.ipynb",
      "provenance": [],
      "collapsed_sections": []
    },
    "kernelspec": {
      "name": "python3",
      "display_name": "Python 3"
    }
  },
  "cells": [
    {
      "cell_type": "code",
      "metadata": {
        "id": "u_5HvmoYJx2W",
        "colab_type": "code",
        "outputId": "13aea6e7-8e26-45ac-bbe0-dbcd23729834",
        "colab": {
          "base_uri": "https://localhost:8080/",
          "height": 50
        }
      },
      "source": [
        "!pip install deap"
      ],
      "execution_count": 0,
      "outputs": [
        {
          "output_type": "stream",
          "text": [
            "Requirement already satisfied: deap in /usr/local/lib/python3.6/dist-packages (1.3.1)\n",
            "Requirement already satisfied: numpy in /usr/local/lib/python3.6/dist-packages (from deap) (1.18.4)\n"
          ],
          "name": "stdout"
        }
      ]
    },
    {
      "cell_type": "code",
      "metadata": {
        "id": "xNSEzY_pvcXl",
        "colab_type": "code",
        "outputId": "674af3f1-78ed-4010-954a-9cfab433b761",
        "colab": {
          "base_uri": "https://localhost:8080/",
          "height": 70
        }
      },
      "source": [
        "from deap import base\n",
        "from deap import creator\n",
        "from deap import tools\n",
        "import random\n",
        "import numpy\n",
        "import elitism\n",
        "\n",
        "from sklearn import model_selection\n",
        "from sklearn import datasets\n",
        "from sklearn.neural_network import MLPClassifier\n",
        "from sklearn.exceptions import ConvergenceWarning\n",
        "from sklearn.utils.testing import ignore_warnings\n",
        "from math import floor"
      ],
      "execution_count": 0,
      "outputs": [
        {
          "output_type": "stream",
          "text": [
            "/usr/local/lib/python3.6/dist-packages/sklearn/utils/deprecation.py:144: FutureWarning: The sklearn.utils.testing module is  deprecated in version 0.22 and will be removed in version 0.24. The corresponding classes / functions should instead be imported from sklearn.utils. Anything that cannot be imported from sklearn.utils is now part of the private API.\n",
            "  warnings.warn(message, FutureWarning)\n"
          ],
          "name": "stderr"
        }
      ]
    },
    {
      "cell_type": "code",
      "metadata": {
        "id": "G6Ps7K_xtgUH",
        "colab_type": "code",
        "colab": {}
      },
      "source": [
        "class MlpHyperparametersTest:\n",
        "\n",
        "    NUM_FOLDS = 5\n",
        "\n",
        "    def __init__(self, randomSeed):\n",
        "\n",
        "        self.randomSeed = randomSeed\n",
        "        self.initDataset()\n",
        "        self.kfold = model_selection.KFold(n_splits=self.NUM_FOLDS, random_state=self.randomSeed)\n",
        "\n",
        "    def initDataset(self):\n",
        "        self.data = datasets.load_digits()\n",
        "\n",
        "        self.X = self.data['data']\n",
        "        self.y = self.data['target']\n",
        "\n",
        "\n",
        "    def convertParams(self, params):\n",
        "\n",
        "        if round(params[1]) <= 0:\n",
        "            hiddenLayerSizes = round(params[0]),\n",
        "        elif round(params[2]) <= 0:\n",
        "            hiddenLayerSizes = (round(params[0]), round(params[1]))\n",
        "        elif round(params[3]) <= 0:\n",
        "            hiddenLayerSizes = (round(params[0]), round(params[1]), round(params[2]))\n",
        "        else:\n",
        "            hiddenLayerSizes = (round(params[0]), round(params[1]), round(params[2]), round(params[3]))\n",
        "\n",
        "        learning_rate_init = numpy.power(10, params[4])\n",
        "        solver = ['sgd', 'adam'][floor(params[5])]        \n",
        "        return hiddenLayerSizes, learning_rate_init, solver\n",
        "        \n",
        "    @ignore_warnings(category=ConvergenceWarning)\n",
        "    def getAccuracy(self, params):\n",
        "        hiddenLayerSizes, learning_rate_init, solver = self.convertParams(params)\n",
        "        self.classifier = MLPClassifier(random_state=self.randomSeed,\n",
        "                                        hidden_layer_sizes=hiddenLayerSizes,\n",
        "                                        activation='relu',\n",
        "                                        solver=solver,\n",
        "                                        learning_rate_init=learning_rate_init)\n",
        "\n",
        "        cv_results = model_selection.cross_val_score(self.classifier,\n",
        "                                                     self.X,\n",
        "                                                     self.y,\n",
        "                                                     cv=self.kfold,\n",
        "                                                     scoring='accuracy')\n",
        "\n",
        "        return cv_results.mean()\n",
        "\n",
        "    def predecir(self, params, X_train):\n",
        "        hiddenLayerSizes, learning_rate_init, solver = self.convertParams(params)\n",
        "        self.classifier = MLPClassifier(random_state=self.randomSeed,\n",
        "                                        hidden_layer_sizes=hiddenLayerSizes,\n",
        "                                        activation='relu',\n",
        "                                        solver=solver,\n",
        "                                        batch_size=32,\n",
        "                                        learning_rate_init=learning_rate_init)\n",
        "\n",
        "        self.classifier.fit(self.X, self.y)\n",
        "        predicted = self.classifier.predict(X_train)\n",
        "        return predicted      \n",
        "\n",
        "\n",
        "    def formatParams(self, params):\n",
        "        hiddenLayerSizes, learning_rate_init, solver = self.convertParams(params)\n",
        "        \n",
        "        return \"'hidden_layer_sizes'={}\\n \" \\\n",
        "               \"'solver'='{}'\\n \" \\\n",
        "               \"'learning_rate_init'='{}'\\n \" \\\n",
        "            .format(hiddenLayerSizes, solver, learning_rate_init)"
      ],
      "execution_count": 0,
      "outputs": []
    },
    {
      "cell_type": "code",
      "metadata": {
        "id": "6vi-nzMGLCbF",
        "colab_type": "code",
        "colab": {}
      },
      "source": [
        "RANDOM_SEED = 42\n",
        "random.seed(RANDOM_SEED)\n",
        "\n",
        "BOUNDS_LOW =  [ 5,  -5, -10, -20, -3, 0]\n",
        "BOUNDS_HIGH = [15,  15,  15,  15, -1, 1.999]\n",
        "\n",
        "NUM_OF_PARAMS = len(BOUNDS_HIGH)\n",
        "\n",
        "POPULATION_SIZE = 50\n",
        "P_CROSSOVER = 0.8\n",
        "P_MUTATION = 0.2  \n",
        "MAX_GENERATIONS = 10\n",
        "HALL_OF_FAME_SIZE = 10\n",
        "CROWDING_FACTOR = 10.0 "
      ],
      "execution_count": 0,
      "outputs": []
    },
    {
      "cell_type": "code",
      "metadata": {
        "id": "PfNLBlydLkbM",
        "colab_type": "code",
        "outputId": "0e340616-5fce-4307-c92f-b554919bb940",
        "colab": {
          "base_uri": "https://localhost:8080/",
          "height": 70
        }
      },
      "source": [
        "def classificationAccuracy(individual):\n",
        "    return test.getAccuracy(individual),\n",
        "\n",
        "test = MlpHyperparametersTest(RANDOM_SEED)\n",
        "toolbox = base.Toolbox()\n",
        "creator.create(\"FitnessMax\", base.Fitness, weights=(1.0,))\n",
        "creator.create(\"Individual\", list, fitness=creator.FitnessMax)\n",
        "\n",
        "for i in range(NUM_OF_PARAMS):\n",
        "    toolbox.register(\"attribute_\" + str(i), random.uniform, BOUNDS_LOW[i], BOUNDS_HIGH[i])\n",
        "\n",
        "attributes = ()\n",
        "for i in range(NUM_OF_PARAMS):\n",
        "    attributes = attributes + (toolbox.__getattribute__(\"attribute_\" + str(i)),)\n",
        "\n",
        "toolbox.register(\"individualCreator\", tools.initCycle, creator.Individual, attributes, n=1)\n",
        "toolbox.register(\"populationCreator\", tools.initRepeat, list, toolbox.individualCreator)\n",
        "toolbox.register(\"evaluate\", classificationAccuracy)\n",
        "toolbox.register(\"select\", tools.selTournament, tournsize=2)\n",
        "toolbox.register(\"mate\", tools.cxSimulatedBinaryBounded, low=BOUNDS_LOW, up=BOUNDS_HIGH, eta=CROWDING_FACTOR)\n",
        "toolbox.register(\"mutate\", tools.mutPolynomialBounded, low=BOUNDS_LOW, up=BOUNDS_HIGH, eta=CROWDING_FACTOR, indpb=1.0/NUM_OF_PARAMS)"
      ],
      "execution_count": 0,
      "outputs": [
        {
          "output_type": "stream",
          "text": [
            "/usr/local/lib/python3.6/dist-packages/sklearn/model_selection/_split.py:296: FutureWarning: Setting a random_state has no effect since shuffle is False. This will raise an error in 0.24. You should leave random_state to its default (None), or set shuffle=True.\n",
            "  FutureWarning\n"
          ],
          "name": "stderr"
        }
      ]
    },
    {
      "cell_type": "code",
      "metadata": {
        "id": "g5CMuZE6JuuI",
        "colab_type": "code",
        "outputId": "0492e9ac-1c6b-428b-c1b9-24c45e312c6e",
        "colab": {
          "base_uri": "https://localhost:8080/",
          "height": 216
        }
      },
      "source": [
        "population = toolbox.populationCreator(n=POPULATION_SIZE)\n",
        "stats = tools.Statistics(lambda ind: ind.fitness.values)\n",
        "stats.register(\"max\", numpy.max)\n",
        "stats.register(\"avg\", numpy.mean)\n",
        "hof = tools.HallOfFame(HALL_OF_FAME_SIZE)\n",
        "population, logbook = elitism.eaSimpleWithElitism(population,\n",
        "                                                  toolbox,\n",
        "                                                  cxpb=P_CROSSOVER,\n",
        "                                                  mutpb=P_MUTATION,\n",
        "                                                  ngen=MAX_GENERATIONS,\n",
        "                                                  stats=stats,\n",
        "                                                  halloffame=hof,\n",
        "                                                  verbose=True) "
      ],
      "execution_count": 0,
      "outputs": [
        {
          "output_type": "stream",
          "text": [
            "gen\tnevals\tmax     \tavg     \n",
            "0  \t50    \t0.912072\t0.598909\n",
            "1  \t32    \t0.91598 \t0.786895\n",
            "2  \t27    \t0.919314\t0.876448\n",
            "3  \t40    \t0.927106\t0.874466\n",
            "4  \t34    \t0.927106\t0.901879\n",
            "5  \t34    \t0.927106\t0.900643\n",
            "6  \t35    \t0.929899\t0.902561\n",
            "7  \t36    \t0.929899\t0.913133\n",
            "8  \t35    \t0.929899\t0.920057\n",
            "9  \t36    \t0.929901\t0.924654\n",
            "10 \t34    \t0.930455\t0.927539\n"
          ],
          "name": "stdout"
        }
      ]
    },
    {
      "cell_type": "code",
      "metadata": {
        "id": "eU3ev3SfJ_jr",
        "colab_type": "code",
        "outputId": "795853c7-e371-4300-a608-b05819fe3ea2",
        "colab": {
          "base_uri": "https://localhost:8080/",
          "height": 116
        }
      },
      "source": [
        "print(\"- Best solution is: \\n\",\n",
        "      test.formatParams(hof.items[0]),\n",
        "      \"\\n 'accuracy' = \", test.getAccuracy(hof.items[0]))"
      ],
      "execution_count": 0,
      "outputs": [
        {
          "output_type": "stream",
          "text": [
            "- Best solution is: \n",
            " 'hidden_layer_sizes'=(12,)\n",
            " 'solver'='adam'\n",
            " 'learning_rate_init'='0.0026877968527949905'\n",
            "  \n",
            " 'accuracy' =  0.9304549675023214\n"
          ],
          "name": "stdout"
        }
      ]
    },
    {
      "cell_type": "code",
      "metadata": {
        "id": "I2s6f_TDxc3-",
        "colab_type": "code",
        "outputId": "75feba45-3fa8-449b-d1c2-a8d8042e9b24",
        "colab": {
          "base_uri": "https://localhost:8080/",
          "height": 307
        }
      },
      "source": [
        "from sklearn import datasets\n",
        "import matplotlib.pyplot as plt \n",
        "\n",
        "data_test = datasets.load_digits()\n",
        "X = data_test['data']\n",
        "y = data_test['target']\n",
        "\n",
        "plt.gray() \n",
        "plt.matshow(data_test.images[5]) \n",
        "plt.show() \n",
        "\n",
        "predicted = test.predecir(hof.items[0], X[5:6])\n",
        "print(\"Es un\", predicted)"
      ],
      "execution_count": 0,
      "outputs": [
        {
          "output_type": "display_data",
          "data": {
            "text/plain": [
              "<Figure size 432x288 with 0 Axes>"
            ]
          },
          "metadata": {
            "tags": []
          }
        },
        {
          "output_type": "display_data",
          "data": {
            "image/png": "[encoded data removed]",
            "text/plain": [
              "<Figure size 288x288 with 1 Axes>"
            ]
          },
          "metadata": {
            "tags": [],
            "needs_background": "light"
          }
        },
        {
          "output_type": "stream",
          "text": [
            "Es un [5]\n"
          ],
          "name": "stdout"
        }
      ]
    },
    {
      "cell_type": "code",
      "metadata": {
        "id": "23g7PR2Er_VH",
        "colab_type": "code",
        "colab": {}
      },
      "source": [
        ""
      ],
      "execution_count": 0,
      "outputs": []
    }
  ]
}