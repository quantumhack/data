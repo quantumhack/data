{
  "nbformat": 4,
  "nbformat_minor": 0,
  "metadata": {
    "colab": {
      "name": "hyperparameters_ga.ipynb",
      "provenance": [],
      "collapsed_sections": []
    },
    "kernelspec": {
      "name": "python3",
      "display_name": "Python 3"
    }
  },
  "cells": [
    {
      "cell_type": "code",
      "metadata": {
        "id": "u_5HvmoYJx2W",
        "colab_type": "code",
        "outputId": "26a4d326-4898-4e08-c87d-b1af43887100",
        "colab": {
          "base_uri": "https://localhost:8080/",
          "height": 50
        }
      },
      "source": [
        "!pip install deap"
      ],
      "execution_count": 1,
      "outputs": [
        {
          "output_type": "stream",
          "text": [
            "Requirement already satisfied: deap in /usr/local/lib/python3.6/dist-packages (1.3.1)\n",
            "Requirement already satisfied: numpy in /usr/local/lib/python3.6/dist-packages (from deap) (1.18.4)\n"
          ],
          "name": "stdout"
        }
      ]
    },
    {
      "cell_type": "code",
      "metadata": {
        "id": "xNSEzY_pvcXl",
        "colab_type": "code",
        "outputId": "c6579776-a2ea-4cdb-ff25-88429ffc5c21",
        "colab": {
          "base_uri": "https://localhost:8080/",
          "height": 70
        }
      },
      "source": [
        "from deap import base\n",
        "from deap import creator\n",
        "from deap import tools\n",
        "\n",
        "import matplotlib.pyplot as plt\n",
        "import random\n",
        "import numpy\n",
        "import elitism\n",
        "\n",
        "from tensorflow.keras.datasets import mnist\n",
        "from sklearn import model_selection\n",
        "from sklearn.neural_network import MLPClassifier\n",
        "from sklearn.exceptions import ConvergenceWarning\n",
        "from sklearn.utils.testing import ignore_warnings\n",
        "from math import floor"
      ],
      "execution_count": 2,
      "outputs": [
        {
          "output_type": "stream",
          "text": [
            "/usr/local/lib/python3.6/dist-packages/sklearn/utils/deprecation.py:144: FutureWarning: The sklearn.utils.testing module is  deprecated in version 0.22 and will be removed in version 0.24. The corresponding classes / functions should instead be imported from sklearn.utils. Anything that cannot be imported from sklearn.utils is now part of the private API.\n",
            "  warnings.warn(message, FutureWarning)\n"
          ],
          "name": "stderr"
        }
      ]
    },
    {
      "cell_type": "code",
      "metadata": {
        "id": "G6Ps7K_xtgUH",
        "colab_type": "code",
        "colab": {}
      },
      "source": [
        "class MlpHyperparametersTest:\n",
        "\n",
        "    NUM_FOLDS = 5\n",
        "\n",
        "    def __init__(self, randomSeed):\n",
        "\n",
        "        self.randomSeed = randomSeed\n",
        "        self.initDataset()\n",
        "        self.kfold = model_selection.KFold(n_splits=self.NUM_FOLDS, random_state=self.randomSeed)\n",
        "\n",
        "    def initDataset(self):\n",
        "        \n",
        "        (x_train, y_train), (x_test, y_test) = mnist.load_data()\n",
        "        self.X = numpy.vstack((x_train,x_test))\n",
        "        self.X = self.X / 255.0\n",
        "        self.X = self.X.reshape(self.X.shape[0], -1)\n",
        "        y_train = y_train.reshape(-1, 1)\n",
        "        y_test = y_test.reshape(-1, 1)\n",
        "        self.y = numpy.vstack((y_train,y_test))        \n",
        "        self.y = self.y.flatten()\n",
        "\n",
        "    def convertParams(self, params):\n",
        "\n",
        "        if round(params[1]) <= 0:\n",
        "            hiddenLayerSizes = round(params[0]),\n",
        "        elif round(params[2]) <= 0:\n",
        "            hiddenLayerSizes = (round(params[0]), round(params[1]))\n",
        "        elif round(params[3]) <= 0:\n",
        "            hiddenLayerSizes = (round(params[0]), round(params[1]), round(params[2]))\n",
        "        else:\n",
        "            hiddenLayerSizes = (round(params[0]), round(params[1]), round(params[2]), round(params[3]))\n",
        "\n",
        "        learning_rate_init = numpy.power(10, params[4])\n",
        "        solver = ['sgd', 'adam'][floor(params[5])]        \n",
        "        return hiddenLayerSizes, learning_rate_init, solver\n",
        "        \n",
        "    @ignore_warnings(category=ConvergenceWarning)\n",
        "    def getAccuracy(self, params):\n",
        "        hiddenLayerSizes, learning_rate_init, solver = self.convertParams(params)\n",
        "        self.classifier = MLPClassifier(random_state=self.randomSeed,\n",
        "                                        hidden_layer_sizes=hiddenLayerSizes,\n",
        "                                        activation='relu',\n",
        "                                        solver=solver,\n",
        "                                        learning_rate_init=learning_rate_init,\n",
        "                                        max_iter = 10)\n",
        "\n",
        "        cv_results = model_selection.cross_val_score(self.classifier,\n",
        "                                                     self.X,\n",
        "                                                     self.y,\n",
        "                                                     cv=self.kfold,\n",
        "                                                     scoring='accuracy')\n",
        "\n",
        "        return cv_results.mean()\n",
        "\n",
        "    def predecir(self, params, X_train):\n",
        "        hiddenLayerSizes, learning_rate_init, solver = self.convertParams(params)\n",
        "        self.classifier = MLPClassifier(random_state=self.randomSeed,\n",
        "                                        hidden_layer_sizes=hiddenLayerSizes,\n",
        "                                        activation='relu',\n",
        "                                        solver=solver,\n",
        "                                        batch_size=32,\n",
        "                                        learning_rate_init=learning_rate_init,\n",
        "                                        max_iter = 10)\n",
        "\n",
        "        self.classifier.fit(self.X, self.y)\n",
        "        predicted = self.classifier.predict(X_train)\n",
        "        return predicted      \n",
        "\n",
        "\n",
        "    def formatParams(self, params):\n",
        "        hiddenLayerSizes, learning_rate_init, solver = self.convertParams(params)\n",
        "        \n",
        "        return \"'hidden_layer_sizes'={}\\n \" \\\n",
        "               \"'solver'='{}'\\n \" \\\n",
        "               \"'learning_rate_init'='{}'\\n \" \\\n",
        "            .format(hiddenLayerSizes, solver, learning_rate_init)"
      ],
      "execution_count": 0,
      "outputs": []
    },
    {
      "cell_type": "code",
      "metadata": {
        "id": "6vi-nzMGLCbF",
        "colab_type": "code",
        "colab": {}
      },
      "source": [
        "RANDOM_SEED = 42\n",
        "random.seed(RANDOM_SEED)\n",
        "\n",
        "BOUNDS_LOW =  [ 5,  -5, -10, -20, -3, 0]\n",
        "BOUNDS_HIGH = [15,  15,  15,  15, -1, 1.999]\n",
        "\n",
        "NUM_OF_PARAMS = len(BOUNDS_HIGH)\n",
        "\n",
        "POPULATION_SIZE = 7\n",
        "P_CROSSOVER = 0.8\n",
        "P_MUTATION = 0.2 \n",
        "MAX_GENERATIONS = 3\n",
        "HALL_OF_FAME_SIZE = 2\n",
        "CROWDING_FACTOR = 10.0 "
      ],
      "execution_count": 0,
      "outputs": []
    },
    {
      "cell_type": "code",
      "metadata": {
        "id": "PfNLBlydLkbM",
        "colab_type": "code",
        "outputId": "eec87eee-400f-406b-f54f-8713200135cb",
        "colab": {
          "base_uri": "https://localhost:8080/",
          "height": 70
        }
      },
      "source": [
        "def classificationAccuracy(individual):\n",
        "    return test.getAccuracy(individual),\n",
        "\n",
        "test = MlpHyperparametersTest(RANDOM_SEED)\n",
        "toolbox = base.Toolbox()\n",
        "creator.create(\"FitnessMax\", base.Fitness, weights=(1.0,))\n",
        "creator.create(\"Individual\", list, fitness=creator.FitnessMax)\n",
        "\n",
        "for i in range(NUM_OF_PARAMS):\n",
        "    toolbox.register(\"attribute_\" + str(i), random.uniform, BOUNDS_LOW[i], BOUNDS_HIGH[i])\n",
        "\n",
        "attributes = ()\n",
        "for i in range(NUM_OF_PARAMS):\n",
        "    attributes = attributes + (toolbox.__getattribute__(\"attribute_\" + str(i)),)\n",
        "\n",
        "toolbox.register(\"individualCreator\", tools.initCycle, creator.Individual, attributes, n=1)\n",
        "toolbox.register(\"populationCreator\", tools.initRepeat, list, toolbox.individualCreator)\n",
        "toolbox.register(\"evaluate\", classificationAccuracy)\n",
        "toolbox.register(\"select\", tools.selTournament, tournsize=2)\n",
        "toolbox.register(\"mate\", tools.cxSimulatedBinaryBounded, low=BOUNDS_LOW, up=BOUNDS_HIGH, eta=CROWDING_FACTOR)\n",
        "toolbox.register(\"mutate\", tools.mutPolynomialBounded, low=BOUNDS_LOW, up=BOUNDS_HIGH, eta=CROWDING_FACTOR, indpb=1.0/NUM_OF_PARAMS)"
      ],
      "execution_count": 5,
      "outputs": [
        {
          "output_type": "stream",
          "text": [
            "/usr/local/lib/python3.6/dist-packages/sklearn/model_selection/_split.py:296: FutureWarning: Setting a random_state has no effect since shuffle is False. This will raise an error in 0.24. You should leave random_state to its default (None), or set shuffle=True.\n",
            "  FutureWarning\n"
          ],
          "name": "stderr"
        }
      ]
    },
    {
      "cell_type": "code",
      "metadata": {
        "id": "g5CMuZE6JuuI",
        "colab_type": "code",
        "colab": {
          "base_uri": "https://localhost:8080/",
          "height": 100
        },
        "outputId": "41d589c6-7ac1-4846-b3d3-d399b9c76db5"
      },
      "source": [
        "population = toolbox.populationCreator(n=POPULATION_SIZE)\n",
        "stats = tools.Statistics(lambda ind: ind.fitness.values)\n",
        "stats.register(\"max\", numpy.max)\n",
        "stats.register(\"avg\", numpy.mean)\n",
        "hof = tools.HallOfFame(HALL_OF_FAME_SIZE)\n",
        "population, logbook = elitism.eaSimpleWithElitism(population,\n",
        "                                                  toolbox,\n",
        "                                                  cxpb=P_CROSSOVER,\n",
        "                                                  mutpb=P_MUTATION,\n",
        "                                                  ngen=MAX_GENERATIONS,\n",
        "                                                  stats=stats,\n",
        "                                                  halloffame=hof,\n",
        "                                                  verbose=True) "
      ],
      "execution_count": 6,
      "outputs": [
        {
          "output_type": "stream",
          "text": [
            "gen\tnevals\tmax     \tavg     \n",
            "0  \t7     \t0.941257\t0.852845\n",
            "1  \t3     \t0.941257\t0.930543\n",
            "2  \t5     \t0.9413  \t0.939276\n",
            "3  \t4     \t0.941371\t0.941249\n"
          ],
          "name": "stdout"
        }
      ]
    },
    {
      "cell_type": "code",
      "metadata": {
        "id": "eU3ev3SfJ_jr",
        "colab_type": "code",
        "colab": {
          "base_uri": "https://localhost:8080/",
          "height": 116
        },
        "outputId": "ef4a61ad-ee50-4c08-d829-f97c684406be"
      },
      "source": [
        "print(\"- Best solution is: \\n\",\n",
        "      test.formatParams(hof.items[0]),\n",
        "      \"\\n 'accuracy' = \", test.getAccuracy(hof.items[0]))"
      ],
      "execution_count": 7,
      "outputs": [
        {
          "output_type": "stream",
          "text": [
            "- Best solution is: \n",
            " 'hidden_layer_sizes'=(14,)\n",
            " 'solver'='adam'\n",
            " 'learning_rate_init'='0.002732031791094457'\n",
            "  \n",
            " 'accuracy' =  0.9413714285714285\n"
          ],
          "name": "stdout"
        }
      ]
    },
    {
      "cell_type": "code",
      "metadata": {
        "id": "I2s6f_TDxc3-",
        "colab_type": "code",
        "colab": {
          "base_uri": "https://localhost:8080/",
          "height": 334
        },
        "outputId": "bb75fa9c-bce8-47ef-824d-47c0fcf4d926"
      },
      "source": [
        "pred = 5\n",
        "(x_train, y_train), (x_test, y_test) = mnist.load_data()\n",
        "X = numpy.vstack((x_train,x_test))\n",
        "plt.imshow(X[pred], cmap='gray')\n",
        "plt.show()                        \n",
        "\n",
        "X = X / 255.0\n",
        "X = X.reshape(X.shape[0], -1)\n",
        "predicted = test.predecir(hof.items[0], X[pred:pred+1])\n",
        "\n",
        "y_train = y_train.reshape(-1, 1)\n",
        "y_test = y_test.reshape(-1, 1)\n",
        "y = numpy.vstack((y_train,y_test))\n",
        "y = y.flatten()\n",
        "\n",
        "print(\"Predigo un\", predicted,\"cuando en realidad es un\",y[pred]) "
      ],
      "execution_count": 8,
      "outputs": [
        {
          "output_type": "display_data",
          "data": {
            "image/png": "[encoded data removed]",
            "text/plain": [
              "<Figure size 432x288 with 1 Axes>"
            ]
          },
          "metadata": {
            "tags": [],
            "needs_background": "light"
          }
        },
        {
          "output_type": "stream",
          "text": [
            "Predigo un [2] cuando en realidad es un 2\n"
          ],
          "name": "stdout"
        },
        {
          "output_type": "stream",
          "text": [
            "/usr/local/lib/python3.6/dist-packages/sklearn/neural_network/_multilayer_perceptron.py:571: ConvergenceWarning: Stochastic Optimizer: Maximum iterations (10) reached and the optimization hasn't converged yet.\n",
            "  % self.max_iter, ConvergenceWarning)\n"
          ],
          "name": "stderr"
        }
      ]
    },
    {
      "cell_type": "code",
      "metadata": {
        "id": "NwIs1wniw-BU",
        "colab_type": "code",
        "colab": {}
      },
      "source": [
        ""
      ],
      "execution_count": 0,
      "outputs": []
    }
  ]
}